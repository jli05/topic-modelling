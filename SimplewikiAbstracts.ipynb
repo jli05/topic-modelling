{
 "cells": [
  {
   "cell_type": "code",
   "execution_count": 1,
   "metadata": {},
   "outputs": [],
   "source": [
    "%load_ext autoreload\n",
    "%autoreload 2"
   ]
  },
  {
   "cell_type": "code",
   "execution_count": 9,
   "metadata": {},
   "outputs": [],
   "source": [
    "from time import time\n",
    "\n",
    "from sklearn.feature_extraction.text import CountVectorizer, TfidfVectorizer\n",
    "from sklearn.decomposition import NMF, LatentDirichletAllocation\n",
    "\n",
    "import numpy as np"
   ]
  },
  {
   "cell_type": "code",
   "execution_count": 3,
   "metadata": {},
   "outputs": [],
   "source": [
    "import matplotlib.pyplot as plt\n",
    "%matplotlib inline"
   ]
  },
  {
   "cell_type": "markdown",
   "metadata": {},
   "source": [
    "# Read and Vectorise Documents"
   ]
  },
  {
   "cell_type": "markdown",
   "metadata": {},
   "source": [
    "Simple Wiki's abstracts"
   ]
  },
  {
   "cell_type": "code",
   "execution_count": 4,
   "metadata": {},
   "outputs": [],
   "source": [
    "all_docs = !xmllint --shell ../data/simplewiki-latest-abstract.xml.gz <<< \"cat //doc/abstract\""
   ]
  },
  {
   "cell_type": "code",
   "execution_count": 5,
   "metadata": {},
   "outputs": [
    {
     "data": {
      "text/plain": [
       "['/ >  -------',\n",
       " '<abstract>April is the 4th month of the year, and comes between March and May. It is one of four months to have 30 days.</abstract>',\n",
       " ' -------',\n",
       " '<abstract>August (Aug.) is the 8th month of the year in the Gregorian calendar, coming between July and September.</abstract>',\n",
       " ' -------',\n",
       " '<abstract>Art is a creative activity by people.  These people are called artists.</abstract>',\n",
       " ' -------',\n",
       " '<abstract>A is the first letter of the English alphabet. The small letter, a, is used as a lower case vowel.</abstract>',\n",
       " ' -------',\n",
       " '<abstract>thumb|240px|This is what the air is made of</abstract>']"
      ]
     },
     "execution_count": 5,
     "metadata": {},
     "output_type": "execute_result"
    }
   ],
   "source": [
    "all_docs[:10]"
   ]
  },
  {
   "cell_type": "code",
   "execution_count": 6,
   "metadata": {},
   "outputs": [
    {
     "data": {
      "text/plain": [
       "130870"
      ]
     },
     "execution_count": 6,
     "metadata": {},
     "output_type": "execute_result"
    }
   ],
   "source": [
    "all_docs = all_docs[1::2]\n",
    "len(all_docs)"
   ]
  },
  {
   "cell_type": "code",
   "execution_count": 7,
   "metadata": {},
   "outputs": [
    {
     "data": {
      "text/plain": [
       "6130"
      ]
     },
     "execution_count": 7,
     "metadata": {},
     "output_type": "execute_result"
    }
   ],
   "source": [
    "docs = [s for s in all_docs\n",
    "        if 'United States' in s]\n",
    "len(docs)"
   ]
  },
  {
   "cell_type": "markdown",
   "metadata": {},
   "source": [
    "* TF-IDF Vectoriser"
   ]
  },
  {
   "cell_type": "code",
   "execution_count": 10,
   "metadata": {},
   "outputs": [],
   "source": [
    "n_features = 20000"
   ]
  },
  {
   "cell_type": "code",
   "execution_count": 11,
   "metadata": {},
   "outputs": [
    {
     "data": {
      "text/plain": [
       "TfidfVectorizer(analyzer='word', binary=False, decode_error='strict',\n",
       "        dtype=<class 'numpy.int64'>, encoding='utf-8', input='content',\n",
       "        lowercase=False, max_df=0.95, max_features=20000, min_df=1,\n",
       "        ngram_range=(1, 1), norm='l2', preprocessor=None, smooth_idf=True,\n",
       "        stop_words='english', strip_accents=None, sublinear_tf=False,\n",
       "        token_pattern='(?u)\\\\b\\\\w\\\\w+\\\\b', tokenizer=None, use_idf=True,\n",
       "        vocabulary=None)"
      ]
     },
     "execution_count": 11,
     "metadata": {},
     "output_type": "execute_result"
    }
   ],
   "source": [
    "tfidf_vectorizer = TfidfVectorizer(max_df=.95, min_df=1,\n",
    "                                   max_features=n_features,\n",
    "                                   lowercase=False,\n",
    "                                   stop_words='english')\n",
    "tfidf_vectorizer.fit(all_docs)"
   ]
  },
  {
   "cell_type": "code",
   "execution_count": 12,
   "metadata": {
    "scrolled": true
   },
   "outputs": [
    {
     "data": {
      "text/plain": [
       "(6130, 20000)"
      ]
     },
     "execution_count": 12,
     "metadata": {},
     "output_type": "execute_result"
    }
   ],
   "source": [
    "tfidf = tfidf_vectorizer.transform(docs)\n",
    "tfidf.shape"
   ]
  },
  {
   "cell_type": "markdown",
   "metadata": {},
   "source": [
    "* TF Vectoriser"
   ]
  },
  {
   "cell_type": "code",
   "execution_count": 13,
   "metadata": {
    "scrolled": true
   },
   "outputs": [
    {
     "data": {
      "text/plain": [
       "CountVectorizer(analyzer='word', binary=False, decode_error='strict',\n",
       "        dtype=<class 'numpy.int64'>, encoding='utf-8', input='content',\n",
       "        lowercase=False, max_df=0.95, max_features=20000, min_df=1,\n",
       "        ngram_range=(1, 1), preprocessor=None, stop_words='english',\n",
       "        strip_accents=None, token_pattern='(?u)\\\\b\\\\w\\\\w+\\\\b',\n",
       "        tokenizer=None,\n",
       "        vocabulary={'April': 1545, '4th': 919, 'month': 16237, 'year': 19948, 'comes': 12685, 'March': 6900, 'May': 7036, 'It': 5717, 'months': 16239, '30': 746, 'days': 13200, 'August': 1715, '8th': 1086, 'Gregorian': 4915, 'calendar': 12207, 'coming': 12691, 'July': 5939, 'September': 9358, 'Art': 1629, '...usa': 1860, 'Arthrostylidium': 1631, 'Losser': 6607, 'Zorlu': 11154, 'Takam': 10011, 'Parvat': 8179})"
      ]
     },
     "execution_count": 13,
     "metadata": {},
     "output_type": "execute_result"
    }
   ],
   "source": [
    "tf_vectorizer = CountVectorizer(max_df=0.95, min_df=1,\n",
    "                                max_features=n_features,\n",
    "                                lowercase=False,\n",
    "                                stop_words='english',\n",
    "                                vocabulary=tfidf_vectorizer.vocabulary_)\n",
    "tf_vectorizer.fit(all_docs)"
   ]
  },
  {
   "cell_type": "code",
   "execution_count": 14,
   "metadata": {},
   "outputs": [
    {
     "data": {
      "text/plain": [
       "(6130, 20000)"
      ]
     },
     "execution_count": 14,
     "metadata": {},
     "output_type": "execute_result"
    }
   ],
   "source": [
    "tf = tf_vectorizer.transform(docs)\n",
    "tf.shape"
   ]
  },
  {
   "cell_type": "markdown",
   "metadata": {},
   "source": [
    "Histogram of nnz of the entire corpus:"
   ]
  },
  {
   "cell_type": "code",
   "execution_count": 18,
   "metadata": {},
   "outputs": [
    {
     "data": {
      "text/plain": [
       "Text(0.5,1,'Histogram of NNZ of All Documents')"
      ]
     },
     "execution_count": 18,
     "metadata": {},
     "output_type": "execute_result"
    },
    {
     "data": {
      "image/png": "[encoded data removed]",
      "text/plain": [
       "<Figure size 432x288 with 1 Axes>"
      ]
     },
     "metadata": {},
     "output_type": "display_data"
    }
   ],
   "source": [
    "plt.hist(tf_vectorizer.transform(all_docs).sum(axis=1))\n",
    "plt.grid()\n",
    "plt.title('Histogram of NNZ of All Documents')"
   ]
  },
  {
   "cell_type": "code",
   "execution_count": null,
   "metadata": {},
   "outputs": [],
   "source": []
  },
  {
   "cell_type": "markdown",
   "metadata": {},
   "source": [
    "# Topic Modelling"
   ]
  },
  {
   "cell_type": "code",
   "execution_count": 19,
   "metadata": {},
   "outputs": [],
   "source": [
    "def print_top_words_factors(factors, feature_names, n_top_words):\n",
    "    ''' Print top words of each topic '''\n",
    "    for topic_idx, topic in enumerate(factors):\n",
    "        message = f\"Topic #{topic_idx}: \"\n",
    "        message += \" \".join([feature_names[i]\n",
    "                             for i in topic.argsort()[:-n_top_words - 1:-1]])\n",
    "        print(message)\n",
    "    print()\n",
    "\n",
    "def print_top_words(model, feature_names, n_top_words):\n",
    "    ''' Print top words of each topic '''\n",
    "    print_top_words_factors(model.components_, feature_names, n_top_words)"
   ]
  },
  {
   "cell_type": "markdown",
   "metadata": {},
   "source": [
    "## NMF"
   ]
  },
  {
   "cell_type": "code",
   "execution_count": 20,
   "metadata": {},
   "outputs": [
    {
     "name": "stdout",
     "output_type": "stream",
     "text": [
      "Topic #0: Kentucky city States United Kenton Hills County Park Indiana Hardin Harlan Estates Village Oklahoma Manor Creek Mount Hill City Heights\n",
      "Topic #1: Iowa city States United City Oklahoma Rock Grove Indiana Lake 2000 St Center Junction people Mount Rapids population Sioux Mitchell\n",
      "Topic #2: States United birth_place California The Texas Massachusetts It Angeles Los Ohio President country Louisiana Pennsylvania American Oklahoma Canada Missouri Washington\n",
      "Topic #3: New York City States United birth_place Brooklyn Jersey Dutchess Manhattan community Bronx Queens County skyscraper meters tall floors feet death_place\n",
      "Topic #4: Illinois city States United Chicago birth_place Park Heights Mount Peoria City Oak Cook Evanston Zion Galena Will Belleville Sterling Bridgeport\n",
      "Topic #5: Idaho city States United Oklahoma Indiana Falls City Springs St Ferry Lake Ohio Hope Twin Teton Franklin Spencer Winchester Bellevue\n",
      "Topic #6: Florida city States United Beach Oklahoma Miami Indiana seat Lake Springs City county Flagler Gadsden Bay Palm Park St It\n",
      "Topic #7: County county seat census population 2010 States United Oklahoma city 2000 It Alabama Ohio At people The As lived town\n",
      "Topic #8: Arkansas state America city States United Indiana Springs City Sebastian It Delaware living Rock County largest Bluff West Oklahoma Little\n",
      "Topic #9: Virginia town States United Norfolk Mount Clifton Hampton Gap Gate unincorporated West community population Charles Nelson South Royal About Creek\n",
      "\n"
     ]
    }
   ],
   "source": [
    "nmf = NMF(n_components=10, init='random', alpha=.3, l1_ratio=1e-6)\n",
    "nmf.fit(tfidf)\n",
    "print_top_words(nmf, tfidf_vectorizer.get_feature_names(), n_top_words=20)"
   ]
  },
  {
   "cell_type": "markdown",
   "metadata": {},
   "source": [
    "## Latent Dirichlet Allocation"
   ]
  },
  {
   "cell_type": "markdown",
   "metadata": {},
   "source": [
    "Variational Inference for LDA"
   ]
  },
  {
   "cell_type": "code",
   "execution_count": 22,
   "metadata": {
    "scrolled": false
   },
   "outputs": [
    {
     "name": "stdout",
     "output_type": "stream",
     "text": [
      "Topic #0: States United city County Iowa state Kentucky birth_place Illinois It Virginia town population 2010 census county Florida people America seat\n",
      "Topic #1: birth_place Houston Boston cultural_origins origin chicken Atlanta Social Origin places Ontario Montana Portland death_place residence Index Death country alloy locations\n",
      "Topic #2: birth_place Houston Boston cultural_origins origin chicken Atlanta Social Origin places Ontario Montana Portland death_place residence Death Index country alloy locations\n",
      "Topic #3: birth_place Houston Boston cultural_origins origin chicken Atlanta Social Origin places Ontario Montana Portland death_place residence Index Death country alloy locations\n",
      "Topic #4: birth_place Houston Boston cultural_origins origin chicken Atlanta Social Origin places Ontario Montana Portland death_place residence Death Index country alloy locations\n",
      "Topic #5: birth_place Houston Boston cultural_origins origin chicken Atlanta Social Origin places Ontario Montana Portland death_place residence Death Index country alloy locations\n",
      "Topic #6: birth_place Houston Boston cultural_origins origin chicken Atlanta Social Origin places Ontario Montana Portland death_place residence Death Index country alloy locations\n",
      "Topic #7: birth_place Houston Boston cultural_origins origin chicken Atlanta Social Origin places Ontario Montana Portland death_place residence Index Death country alloy locations\n",
      "Topic #8: United States The It New American birth_place York President California He born City National Canada government War known used January\n",
      "Topic #9: birth_place Houston Boston cultural_origins origin chicken Atlanta Social Origin places Ontario Montana Portland death_place residence Death Index country alloy locations\n",
      "\n"
     ]
    }
   ],
   "source": [
    "lda = LatentDirichletAllocation(n_components=10,\n",
    "                                doc_topic_prior=1,\n",
    "                                topic_word_prior=1,\n",
    "                                max_iter=10,\n",
    "                                learning_method='online')\n",
    "lda.fit(tf)\n",
    "print_top_words(lda, tf_vectorizer.get_feature_names(), n_top_words=20)"
   ]
  },
  {
   "cell_type": "markdown",
   "metadata": {},
   "source": [
    "## Spectral LDA"
   ]
  },
  {
   "cell_type": "code",
   "execution_count": 23,
   "metadata": {
    "scrolled": true
   },
   "outputs": [
    {
     "name": "stderr",
     "output_type": "stream",
     "text": [
      "Using numpy backend.\n",
      "Using numpy backend.\n"
     ]
    }
   ],
   "source": [
    "import sys\n",
    "sys.path.insert(0, '../SpectralLDA')\n",
    "\n",
    "from spectral_lda import spectral_lda"
   ]
  },
  {
   "cell_type": "code",
   "execution_count": 24,
   "metadata": {
    "scrolled": false
   },
   "outputs": [
    {
     "name": "stderr",
     "output_type": "stream",
     "text": [
      "# docs: 6130\t# valid: 6106\n"
     ]
    },
    {
     "name": "stdout",
     "output_type": "stream",
     "text": [
      "Topic #0: States United city Iowa York City Kentucky Idaho Brooklyn Mount Jersey Park Hills Chicago St Grove Lake Illinois Rock Heights\n",
      "Topic #1: States York The American City It He people born President War January February March Brooklyn known University September April July\n",
      "Topic #2: United The York American It City He people born President War January February March known University September April July Brooklyn\n",
      "Topic #3: city birth_place The Iowa It Virginia state County Kentucky America town country Idaho American President Canada people government Army thumb\n",
      "Topic #4: city The It California America Arkansas Texas Virginia Massachusetts country American President county census Pennsylvania Canada Louisiana Alabama Ohio government\n",
      "Topic #5: city States United state Arkansas America Indiana City Springs Rock Sebastian Clarksville Jonesboro Monticello Camden London Delaware living Decatur West\n",
      "Topic #6: States United York New City birth_place Jersey Brooklyn California Chicago Texas Angeles Los Massachusetts Manhattan Dutchess Houston Bronx Pennsylvania San\n",
      "Topic #7: States United Virginia town York Parish City Clifton Mount Alaska Maine Louisiana small South Connecticut Gap Rural Gate Royal Charles\n",
      "Topic #8: Iowa Kentucky Illinois The Idaho Florida It Oklahoma California Virginia Ohio country County Texas birth_place Indiana Massachusetts county census American\n",
      "Topic #9: city town birth_place Iowa Kentucky It county The New Illinois seat Oklahoma Florida America Idaho Ohio California Arkansas state community\n",
      "\n"
     ]
    }
   ],
   "source": [
    "alpha, beta = spectral_lda(tf, alpha0=10, k=10)\n",
    "print_top_words_factors(beta.T, tf_vectorizer.get_feature_names(), 20)"
   ]
  },
  {
   "cell_type": "code",
   "execution_count": 25,
   "metadata": {},
   "outputs": [
    {
     "data": {
      "text/plain": [
       "[<matplotlib.lines.Line2D at 0x112486a58>]"
      ]
     },
     "execution_count": 25,
     "metadata": {},
     "output_type": "execute_result"
    },
    {
     "data": {
      "image/png": "[encoded data removed]",
      "text/plain": [
       "<Figure size 432x288 with 1 Axes>"
      ]
     },
     "metadata": {},
     "output_type": "display_data"
    }
   ],
   "source": [
    "plt.plot(alpha)"
   ]
  },
  {
   "cell_type": "code",
   "execution_count": 26,
   "metadata": {},
   "outputs": [
    {
     "data": {
      "text/plain": [
       "5.396717959560388"
      ]
     },
     "execution_count": 26,
     "metadata": {},
     "output_type": "execute_result"
    }
   ],
   "source": [
    "alpha.sum()"
   ]
  },
  {
   "cell_type": "code",
   "execution_count": null,
   "metadata": {},
   "outputs": [],
   "source": []
  }
 ],
 "metadata": {
  "kernelspec": {
   "display_name": "Python 3",
   "language": "python",
   "name": "python3"
  },
  "language_info": {
   "codemirror_mode": {
    "name": "ipython",
    "version": 3
   },
   "file_extension": ".py",
   "mimetype": "text/x-python",
   "name": "python",
   "nbconvert_exporter": "python",
   "pygments_lexer": "ipython3",
   "version": "3.6.5"
  }
 },
 "nbformat": 4,
 "nbformat_minor": 2
}
