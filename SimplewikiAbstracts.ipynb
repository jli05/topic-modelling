{
 "cells": [
  {
   "cell_type": "code",
   "execution_count": 1,
   "metadata": {},
   "outputs": [],
   "source": [
    "%load_ext autoreload\n",
    "%autoreload 2"
   ]
  },
  {
   "cell_type": "code",
   "execution_count": 2,
   "metadata": {},
   "outputs": [],
   "source": [
    "from time import time\n",
    "\n",
    "from sklearn.feature_extraction.text import CountVectorizer, TfidfVectorizer\n",
    "from sklearn.decomposition import NMF, LatentDirichletAllocation"
   ]
  },
  {
   "cell_type": "code",
   "execution_count": 3,
   "metadata": {},
   "outputs": [],
   "source": [
    "import numpy as np"
   ]
  },
  {
   "cell_type": "code",
   "execution_count": 4,
   "metadata": {},
   "outputs": [],
   "source": [
    "import matplotlib.pyplot as plt\n",
    "%matplotlib inline"
   ]
  },
  {
   "cell_type": "markdown",
   "metadata": {},
   "source": [
    "# Read and Vectorise Documents"
   ]
  },
  {
   "cell_type": "markdown",
   "metadata": {},
   "source": [
    "Simple Wiki's abstracts"
   ]
  },
  {
   "cell_type": "code",
   "execution_count": 10,
   "metadata": {},
   "outputs": [],
   "source": [
    "all_docs = !xmllint --shell ../data/simplewiki-latest-abstract.xml.gz <<< \"cat //doc/abstract\""
   ]
  },
  {
   "cell_type": "code",
   "execution_count": 11,
   "metadata": {},
   "outputs": [
    {
     "data": {
      "text/plain": [
       "['/ >  -------',\n",
       " '<abstract>April is the 4th month of the year, and comes between March and May. It is one of four months to have 30 days.</abstract>',\n",
       " ' -------',\n",
       " '<abstract>August (Aug.) is the 8th month of the year in the Gregorian calendar, coming between July and September.</abstract>',\n",
       " ' -------',\n",
       " '<abstract>Art is a creative activity by people.  These people are called artists.</abstract>',\n",
       " ' -------',\n",
       " '<abstract>A is the first letter of the English alphabet. The small letter, a, is used as a lower case vowel.</abstract>',\n",
       " ' -------',\n",
       " '<abstract>thumb|240px|This is what the air is made of</abstract>']"
      ]
     },
     "execution_count": 11,
     "metadata": {},
     "output_type": "execute_result"
    }
   ],
   "source": [
    "all_docs[:10]"
   ]
  },
  {
   "cell_type": "code",
   "execution_count": 12,
   "metadata": {},
   "outputs": [
    {
     "data": {
      "text/plain": [
       "130870"
      ]
     },
     "execution_count": 12,
     "metadata": {},
     "output_type": "execute_result"
    }
   ],
   "source": [
    "all_docs = all_docs[1::2]\n",
    "len(all_docs)"
   ]
  },
  {
   "cell_type": "code",
   "execution_count": 13,
   "metadata": {},
   "outputs": [
    {
     "data": {
      "text/plain": [
       "6130"
      ]
     },
     "execution_count": 13,
     "metadata": {},
     "output_type": "execute_result"
    }
   ],
   "source": [
    "docs = [s for s in all_docs\n",
    "        if 'United States' in s]\n",
    "len(docs)"
   ]
  },
  {
   "cell_type": "markdown",
   "metadata": {},
   "source": [
    "TF-IDF Vectoriser"
   ]
  },
  {
   "cell_type": "code",
   "execution_count": 14,
   "metadata": {},
   "outputs": [],
   "source": [
    "n_features = 20000"
   ]
  },
  {
   "cell_type": "code",
   "execution_count": 15,
   "metadata": {},
   "outputs": [
    {
     "data": {
      "text/plain": [
       "TfidfVectorizer(analyzer='word', binary=False, decode_error='strict',\n",
       "        dtype=<class 'numpy.int64'>, encoding='utf-8', input='content',\n",
       "        lowercase=False, max_df=0.95, max_features=20000, min_df=1,\n",
       "        ngram_range=(1, 1), norm='l2', preprocessor=None, smooth_idf=True,\n",
       "        stop_words='english', strip_accents=None, sublinear_tf=False,\n",
       "        token_pattern='(?u)\\\\b\\\\w\\\\w+\\\\b', tokenizer=None, use_idf=True,\n",
       "        vocabulary=None)"
      ]
     },
     "execution_count": 15,
     "metadata": {},
     "output_type": "execute_result"
    }
   ],
   "source": [
    "tfidf_vectorizer = TfidfVectorizer(max_df=.95, min_df=1,\n",
    "                                   max_features=n_features,\n",
    "                                   lowercase=False,\n",
    "                                   stop_words='english')\n",
    "tfidf_vectorizer.fit(all_docs)"
   ]
  },
  {
   "cell_type": "code",
   "execution_count": 16,
   "metadata": {
    "scrolled": true
   },
   "outputs": [
    {
     "data": {
      "text/plain": [
       "(6130, 20000)"
      ]
     },
     "execution_count": 16,
     "metadata": {},
     "output_type": "execute_result"
    }
   ],
   "source": [
    "tfidf = tfidf_vectorizer.transform(docs)\n",
    "tfidf.shape"
   ]
  },
  {
   "cell_type": "markdown",
   "metadata": {},
   "source": [
    "TF Vectoriser"
   ]
  },
  {
   "cell_type": "code",
   "execution_count": 17,
   "metadata": {
    "scrolled": true
   },
   "outputs": [
    {
     "data": {
      "text/plain": [
       "CountVectorizer(analyzer='word', binary=False, decode_error='strict',\n",
       "        dtype=<class 'numpy.int64'>, encoding='utf-8', input='content',\n",
       "        lowercase=False, max_df=0.95, max_features=20000, min_df=1,\n",
       "        ngram_range=(1, 1), preprocessor=None, stop_words='english',\n",
       "        strip_accents=None, token_pattern='(?u)\\\\b\\\\w\\\\w+\\\\b',\n",
       "        tokenizer=None,\n",
       "        vocabulary={'April': 1545, '4th': 919, 'month': 16237, 'year': 19948, 'comes': 12685, 'March': 6900, 'May': 7036, 'It': 5717, 'months': 16239, '30': 746, 'days': 13200, 'August': 1715, '8th': 1086, 'Gregorian': 4915, 'calendar': 12207, 'coming': 12691, 'July': 5939, 'September': 9358, 'Art': 1629, '...usa': 1860, 'Arthrostylidium': 1631, 'Losser': 6607, 'Zorlu': 11154, 'Takam': 10011, 'Parvat': 8179})"
      ]
     },
     "execution_count": 17,
     "metadata": {},
     "output_type": "execute_result"
    }
   ],
   "source": [
    "tf_vectorizer = CountVectorizer(max_df=0.95, min_df=1,\n",
    "                                max_features=n_features,\n",
    "                                lowercase=False,\n",
    "                                stop_words='english',\n",
    "                                vocabulary=tfidf_vectorizer.vocabulary_)\n",
    "tf_vectorizer.fit(all_docs)"
   ]
  },
  {
   "cell_type": "code",
   "execution_count": 18,
   "metadata": {},
   "outputs": [
    {
     "data": {
      "text/plain": [
       "(6130, 20000)"
      ]
     },
     "execution_count": 18,
     "metadata": {},
     "output_type": "execute_result"
    }
   ],
   "source": [
    "tf = tf_vectorizer.transform(docs)\n",
    "tf.shape"
   ]
  },
  {
   "cell_type": "code",
   "execution_count": null,
   "metadata": {},
   "outputs": [],
   "source": []
  },
  {
   "cell_type": "markdown",
   "metadata": {},
   "source": [
    "# Topic Modelling"
   ]
  },
  {
   "cell_type": "code",
   "execution_count": 19,
   "metadata": {},
   "outputs": [],
   "source": [
    "def print_top_words_factors(factors, feature_names, n_top_words):\n",
    "    ''' Print top words of each topic '''\n",
    "    for topic_idx, topic in enumerate(factors):\n",
    "        message = f\"Topic #{topic_idx}: \"\n",
    "        message += \" \".join([feature_names[i]\n",
    "                             for i in topic.argsort()[:-n_top_words - 1:-1]])\n",
    "        print(message)\n",
    "    print()\n",
    "\n",
    "def print_top_words(model, feature_names, n_top_words):\n",
    "    ''' Print top words of each topic '''\n",
    "    print_top_words_factors(model.components_, feature_names, n_top_words)"
   ]
  },
  {
   "cell_type": "code",
   "execution_count": null,
   "metadata": {},
   "outputs": [],
   "source": []
  },
  {
   "cell_type": "markdown",
   "metadata": {},
   "source": [
    "## NMF"
   ]
  },
  {
   "cell_type": "code",
   "execution_count": 20,
   "metadata": {
    "scrolled": false
   },
   "outputs": [
    {
     "name": "stdout",
     "output_type": "stream",
     "text": [
      "Topic #0: city States United Illinois Idaho Florida Oklahoma Indiana Chicago City Beach Park Lake St Springs Heights seat Mount Ohio Miami\n",
      "Topic #1: The States United President population War census National presidential It Reagan 2010 Congress Department government American held second started State\n",
      "Topic #2: Iowa city States United City 2000 Rock Lake Grove St population people Junction Center Mount Indiana Rapids Sioux Oklahoma Falls\n",
      "Topic #3: state Arkansas America city States United Indiana City Springs North living Sebastian Delaware people largest County located states West Bluff\n",
      "Topic #4: County county census population seat 2010 It city States United 2000 Alabama people Ohio At Oklahoma As lived town community\n",
      "Topic #5: United States It American He Constitution government Army born Florida Canada people country Louisiana Court In Navy Kingdom Washington Department\n",
      "Topic #6: New York City States United birth_place Jersey Brooklyn Dutchess community Manhattan skyscraper Bronx meters feet County tall floors Queens Haven\n",
      "Topic #7: Virginia town States United West Mount Norfolk Hampton About South Gap Gate unincorporated Maine Blue 2000 McClure Clifton Connecticut Nelson\n",
      "Topic #8: Kentucky city States United Kenton Hills County Park Hardin Harlan Indiana Estates Village Creek Hill Manor Valley Heights Grove City\n",
      "Topic #9: birth_place States United California Illinois Angeles Los Texas Chicago Massachusetts San Pennsylvania Houston Missouri Michigan Ohio Jersey Carolina Boston Francisco\n",
      "\n"
     ]
    }
   ],
   "source": [
    "nmf = NMF(n_components=10, init='random', alpha=.3, l1_ratio=1e-6)\n",
    "nmf.fit(.8 * tfidf + .2 * tf)\n",
    "print_top_words(nmf, tfidf_vectorizer.get_feature_names(), n_top_words=20)"
   ]
  },
  {
   "cell_type": "code",
   "execution_count": 21,
   "metadata": {},
   "outputs": [
    {
     "name": "stdout",
     "output_type": "stream",
     "text": [
      "Topic #0: United States It American He born Constitution government President Army Canada people 2016 known March January called used June December\n",
      "Topic #1: County county census population 2010 It seat 2000 people Alabama city At As Ohio lived States United town community unincorporated\n",
      "Topic #2: city States United Kentucky Florida Idaho Oklahoma Indiana City Beach Ohio seat As Kenton Hills Lake Park Alabama Springs St\n",
      "Topic #3: Virginia town States United West unincorporated community Connecticut South About Mount small 2000 Blue Maine Louisiana Parish Hampton Ridge people\n",
      "Topic #4: New York City Jersey States United Dutchess community Brooklyn Manhattan skyscraper feet meters tall floors Haven It As Island Times\n",
      "Topic #5: Iowa city States United people City 2000 Rock population In lived Lake St Junction Grove Mount Center living 2010 Census\n",
      "Topic #6: state America Arkansas States United city Indiana North people living states In Delaware county largest Sebastian governments Wisconsin State City\n",
      "Topic #7: Illinois Chicago States United city community Cook Park village Side State City Loop located Metropolitan Will areas Reagan south skyscraper\n",
      "Topic #8: The States United President War National population Department census government Reagan Canada Congress presidential State held League second started agency\n",
      "Topic #9: States United birth_place California Texas Angeles Los Massachusetts Ohio San Pennsylvania North Missouri Louisiana Carolina Jersey Michigan Houston Brooklyn Boston\n",
      "\n"
     ]
    }
   ],
   "source": [
    "nmf = NMF(n_components=10, init='random', alpha=.3, l1_ratio=1e-6)\n",
    "nmf.fit(.2 * tfidf + .8 * tf)\n",
    "print_top_words(nmf, tfidf_vectorizer.get_feature_names(), n_top_words=20)"
   ]
  },
  {
   "cell_type": "code",
   "execution_count": 22,
   "metadata": {},
   "outputs": [
    {
     "name": "stdout",
     "output_type": "stream",
     "text": [
      "Topic #0: United States President government Constitution people In Department This Army Court Congress Kingdom called Canada They Census federal Amendment Louisiana\n",
      "Topic #1: County census population 2010 county 2000 seat people States United Alabama city As At lived town Ohio community unincorporated designated\n",
      "Topic #2: Virginia town States United West Connecticut Blue Mount South About Hampton Carolina small Maine Ridge unincorporated eastern McClure Norfolk area\n",
      "Topic #3: It United States seat county County Oklahoma largest feet started Chicago skyscraper tall floors meters released River Florida season second\n",
      "Topic #4: New York City States United Jersey birth_place Dutchess community Manhattan Brooklyn feet skyscraper Haven meters tall floors Times Island As\n",
      "Topic #5: The States United President War National Department government Canada Congress Reagan held presidential State population second used started census North\n",
      "Topic #6: city States United Iowa Kentucky Illinois Florida Idaho Oklahoma City Indiana seat Lake Beach St Ohio Park Hills Springs As\n",
      "Topic #7: state America Arkansas city States United Indiana North people living states Delaware largest County county State In Sebastian Wisconsin capital\n",
      "Topic #8: American United States He born War January served politician July February April March June 2017 October May member December North\n",
      "Topic #9: birth_place States United California Illinois Los Angeles Chicago Texas Massachusetts San North Pennsylvania Carolina Ohio Michigan Missouri Houston Brooklyn Boston\n",
      "\n"
     ]
    }
   ],
   "source": [
    "nmf = NMF(n_components=10, init='random', alpha=.3, l1_ratio=1e-6)\n",
    "nmf.fit(tf)\n",
    "print_top_words(nmf, tfidf_vectorizer.get_feature_names(), n_top_words=20)"
   ]
  },
  {
   "cell_type": "markdown",
   "metadata": {},
   "source": [
    "## Latent Dirichlet Allocation"
   ]
  },
  {
   "cell_type": "markdown",
   "metadata": {},
   "source": [
    "Variational Inference for LDA"
   ]
  },
  {
   "cell_type": "code",
   "execution_count": 23,
   "metadata": {
    "scrolled": false
   },
   "outputs": [
    {
     "name": "stdout",
     "output_type": "stream",
     "text": [
      "Topic #0: music chart blues rock Billboard hop 1960s hip songs Songs Hot rhythm singles single airplay punk type Country access singers\n",
      "Topic #1: States United Idaho birth_place origin Iowa chicken Illinois Kentucky cake Montana Origin restaurant Indiana Social Virginia Airlines locations death_place cultural_origins\n",
      "Topic #2: chicken missiles United States strips seeking air birth_place Idaho ground Chicken destroy anti aircraft surface guns baked supposed origin enemy\n",
      "Topic #3: States United Idaho birth_place Illinois origin Iowa Indiana chicken restaurant cake Origin Kentucky Montana city Social Virginia Airlines locations death_place\n",
      "Topic #4: United States birth_place Idaho origin Iowa Illinois Origin chicken Kentucky restaurant cake Montana Indiana Social city Virginia Airlines locations death_place\n",
      "Topic #5: States birth_place United Idaho origin Iowa Illinois city Indiana chicken restaurant Kentucky Origin cake Montana Social Virginia Airlines locations country\n",
      "Topic #6: birth_place States Idaho United origin Iowa Illinois chicken Kentucky restaurant Origin Indiana Montana cake Social Airlines city locations death_place Virginia\n",
      "Topic #7: States United birth_place Idaho origin Illinois Iowa Kentucky chicken Origin restaurant Indiana Montana cake Social Virginia Airlines city locations death_place\n",
      "Topic #8: United Idaho birth_place States origin Iowa Illinois chicken restaurant Kentucky Origin cake Indiana Montana Social city Airlines Virginia locations death_place\n",
      "Topic #9: United States city The It County birth_place Iowa New state American Illinois Kentucky York Virginia town population people 2010 America\n",
      "\n"
     ]
    }
   ],
   "source": [
    "lda = LatentDirichletAllocation(n_components=10,\n",
    "                                doc_topic_prior=1,\n",
    "                                topic_word_prior=1,\n",
    "                                max_iter=10,\n",
    "                                learning_method='online',\n",
    "                                learning_offset=100)\n",
    "lda.fit(tf)\n",
    "print_top_words(lda, tf_vectorizer.get_feature_names(), n_top_words=20)"
   ]
  },
  {
   "cell_type": "code",
   "execution_count": 25,
   "metadata": {},
   "outputs": [
    {
     "name": "stdout",
     "output_type": "stream",
     "text": [
      "Topic #0: fossil Certification Format Chronology Length Brain Nothing Genre Digital Writer Rihanna Producer download Next Label Is Platinum Recording Last singles\n",
      "Topic #1: County population census county seat 2000 Alabama 2010 At designated As Statistical CDP Area township Montgomery Birmingham city Metropolitan included\n",
      "Topic #2: Chattanooga index org Set upright cat comparison tails Index Death birth_place https Fayetteville spider region1 Social origin Fayette Glasgow alcohol\n",
      "Topic #3: Microsoft access alloy Windows YouTube videos advertising internet operating Google offered Verizon computers mobile Country paid background devices subscription users\n",
      "Topic #4: milk cream removed semi resulting Sometimes instead half Chattanooga index org Set upright cat tails comparison Index Death Fayetteville spider\n",
      "Topic #5: United States city The It birth_place Iowa County New state American Illinois Kentucky York Virginia town people America President City\n",
      "Topic #6: cookie portions baked chip baking oven minutes drop chocolate dough sheet spoon dropped medium Small 10 15 Chattanooga index org\n",
      "Topic #7: chicken strips Chicken baked texture fried egg meat deep grilled smooth batter fingers Northeastern Midwest dish way yellow neck shell\n",
      "Topic #8: fast temperature height increases restaurant invented Jet streams decreases flowing stratosphere narrow currents transition relatively little joints aims formal gap\n",
      "Topic #9: ex Gibbs Scout turned Harmon Leroy Mark NCIS Marines fictional character CBS agent Special Television played Chattanooga series index org\n",
      "\n"
     ]
    }
   ],
   "source": [
    "lda = LatentDirichletAllocation(n_components=10,\n",
    "                                doc_topic_prior=.5,\n",
    "                                topic_word_prior=1,\n",
    "                                max_iter=10,\n",
    "                                learning_method='online',\n",
    "                                learning_offset=100)\n",
    "lda.fit(tf)\n",
    "print_top_words(lda, tf_vectorizer.get_feature_names(), n_top_words=20)"
   ]
  },
  {
   "cell_type": "code",
   "execution_count": 27,
   "metadata": {},
   "outputs": [
    {
     "name": "stdout",
     "output_type": "stream",
     "text": [
      "Topic #0: access YouTube videos internet advertising Verizon offered temperature increases treatment schizophrenia Ultimate height Nielsen Communications fossil resources background playback devices\n",
      "Topic #1: licenses Creative Commons performing bite painful capable snakes highly relates copyright vipers Water venomous nonprofit corporation species 2002 southern released\n",
      "Topic #2: Present region1 Chattanooga Florida 339 Tampa origin Fayetteville birth_place Fayette Glasgow Toronto Ada Montreal Ottawa Idaho nationality Oklahoma Kirkland Custer\n",
      "Topic #3: York New seat county Florida Louisiana Parish City community hurricane Hurricane unincorporated Brooklyn Dutchess Jersey parish Atlantic storm Beach Haven\n",
      "Topic #4: Present region1 Chattanooga Florida 339 Tampa origin Fayetteville birth_place Fayette Glasgow Toronto Ada Montreal Ottawa Idaho nationality Oklahoma Kirkland Custer\n",
      "Topic #5: United States city The It County birth_place Iowa state American Illinois Kentucky Virginia town 2010 population people America census New\n",
      "Topic #6: Present region1 Chattanooga Florida 339 Tampa origin Fayetteville birth_place Fayette Glasgow Toronto Ada Montreal Ottawa Idaho nationality Oklahoma Kirkland Custer\n",
      "Topic #7: slavery By interference promoted Pro practiced ideology practice mainly Southern Present region1 Chattanooga Florida 339 Tampa origin Fayetteville birth_place Fayette\n",
      "Topic #8: thumb income unit customary inch Imperial restaurant length measure Group systems Gloves card Golden HIV units width alloy Germany Qaeda\n",
      "Topic #9: car movie directed Microsoft Troll operating Windows PG cartoon horror systems Dollars perform Google Toyota box Kimberly rated McCarthy release\n",
      "\n"
     ]
    }
   ],
   "source": [
    "lda = LatentDirichletAllocation(n_components=10,\n",
    "                                doc_topic_prior=.2,\n",
    "                                topic_word_prior=1,\n",
    "                                max_iter=10,\n",
    "                                learning_method='online')\n",
    "lda.fit(tf)\n",
    "print_top_words(lda, tf_vectorizer.get_feature_names(), n_top_words=20)"
   ]
  },
  {
   "cell_type": "code",
   "execution_count": null,
   "metadata": {},
   "outputs": [],
   "source": []
  },
  {
   "cell_type": "markdown",
   "metadata": {},
   "source": [
    "## Spectral LDA"
   ]
  },
  {
   "cell_type": "code",
   "execution_count": 28,
   "metadata": {
    "scrolled": true
   },
   "outputs": [
    {
     "name": "stderr",
     "output_type": "stream",
     "text": [
      "Using mxnet backend.\n",
      "/Library/Frameworks/Python.framework/Versions/3.6/lib/python3.6/site-packages/h5py/__init__.py:36: FutureWarning: Conversion of the second argument of issubdtype from `float` to `np.floating` is deprecated. In future, it will be treated as `np.float64 == np.dtype(float).type`.\n",
      "  from ._conv import register_converters as _register_converters\n",
      "Using numpy backend.\n"
     ]
    }
   ],
   "source": [
    "import sys\n",
    "sys.path.insert(0, '../SpectralLDA')\n",
    "\n",
    "from spectral_lda import spectral_lda"
   ]
  },
  {
   "cell_type": "code",
   "execution_count": 29,
   "metadata": {
    "scrolled": false
   },
   "outputs": [
    {
     "name": "stderr",
     "output_type": "stream",
     "text": [
      "# docs: 6130\t# valid: 6106\n"
     ]
    },
    {
     "name": "stdout",
     "output_type": "stream",
     "text": [
      "Topic #0: States United city Iowa York City Kentucky Idaho Brooklyn Jersey Chicago Mount Park Hills St Grove Lake Rock Heights Oakland\n",
      "Topic #1: States York The City American He born Brooklyn people Jersey President War January February It March Manhattan University September known\n",
      "Topic #2: United York The American City He It people born President War January Brooklyn February March Jersey University known September April\n",
      "Topic #3: city birth_place The It Iowa Virginia state County America town country Kentucky American President Idaho Canada people government Army thumb\n",
      "Topic #4: city The California It Arkansas America Texas Massachusetts country Virginia American President county Pennsylvania census Canada Ohio Louisiana Alabama Michigan\n",
      "Topic #5: city States United state Arkansas America Indiana City Springs Rock Sebastian Clarksville Jonesboro Monticello Camden living Delaware London Decatur West\n",
      "Topic #6: States United York New City birth_place Jersey Brooklyn California Chicago Texas Angeles Los Massachusetts Dutchess Manhattan Bronx Houston community San\n",
      "Topic #7: States United Virginia town York Parish City Clifton Mount Alaska Maine Louisiana small South Connecticut Gap Rural Gate Royal Charles\n",
      "Topic #8: Iowa Kentucky Illinois The Idaho Florida It Oklahoma California Virginia birth_place Ohio County country Texas Indiana Massachusetts county census American\n",
      "Topic #9: city town birth_place Iowa Kentucky It county The New Illinois seat Oklahoma Florida America Idaho Ohio Arkansas California state community\n",
      "\n"
     ]
    }
   ],
   "source": [
    "alpha, beta = spectral_lda(tf, alpha0=10, k=10)\n",
    "print_top_words_factors(beta.T, tf_vectorizer.get_feature_names(), 20)"
   ]
  },
  {
   "cell_type": "code",
   "execution_count": 30,
   "metadata": {},
   "outputs": [
    {
     "name": "stderr",
     "output_type": "stream",
     "text": [
      "# docs: 6130\t# valid: 6106\n"
     ]
    },
    {
     "name": "stdout",
     "output_type": "stream",
     "text": [
      "Topic #0: States United city Iowa York Kentucky City Idaho Illinois Chicago Brooklyn Jersey Florida Park Mount Hills St Lake Grove Rock\n",
      "Topic #1: States York The American He people born War January February City University March As September Manhattan Brooklyn April known July\n",
      "Topic #2: United York The American people He born War January University As February March City 2010 President living Manhattan April July\n",
      "Topic #3: city birth_place The It Iowa state Virginia County America country American town Kentucky President Canada Idaho people government In Army\n",
      "Topic #4: city The It America Arkansas California country American Virginia President county Massachusetts Texas census Canada people government counties In state\n",
      "Topic #5: States city United state Arkansas America Indiana City Springs Rock Sebastian Clarksville Monticello Jonesboro Delaware West living Camden London Decatur\n",
      "Topic #6: States United York New City birth_place Jersey Brooklyn California Chicago Angeles Los Texas Illinois Massachusetts Manhattan Dutchess Houston Bronx San\n",
      "Topic #7: States United Virginia town York City Parish Clifton Mount Alaska Maine Louisiana South small Connecticut Gap Hill Rural Charles Royal\n",
      "Topic #8: Iowa Kentucky Illinois The Idaho Florida It Oklahoma California Ohio Virginia country County Indiana Texas American Massachusetts census President county\n",
      "Topic #9: city town birth_place Iowa It Kentucky The county New seat Illinois Oklahoma America Florida Ohio Idaho California community American Alabama\n",
      "\n"
     ]
    }
   ],
   "source": [
    "alpha, beta = spectral_lda(tf, alpha0=5, k=10)\n",
    "print_top_words_factors(beta.T, tf_vectorizer.get_feature_names(), 20)"
   ]
  },
  {
   "cell_type": "code",
   "execution_count": 31,
   "metadata": {},
   "outputs": [
    {
     "name": "stderr",
     "output_type": "stream",
     "text": [
      "# docs: 6130\t# valid: 6106\n"
     ]
    },
    {
     "name": "stdout",
     "output_type": "stream",
     "text": [
      "Topic #0: city Iowa Illinois Kentucky California The Florida Texas Massachusetts Oklahoma country Ohio Idaho It Pennsylvania Alabama American Michigan Indiana President\n",
      "Topic #1: United States city County county seat It population census 2010 2000 Oklahoma The New people York Alabama community Kentucky Florida\n",
      "Topic #2: United York New City Jersey Brooklyn county population census 2010 Dutchess seat Manhattan Bronx As 2000 Queens community people San\n",
      "Topic #3: city birth_place The town America Virginia New Arkansas York Chicago county It community unincorporated In counties Massachusetts American President people\n",
      "Topic #4: city Iowa birth_place Kentucky Idaho The Florida It country Illinois Oklahoma American state President Canada thumb Army Navy government He\n",
      "Topic #5: city States United state Arkansas America Indiana City Springs York Rock living Delaware Sebastian Clarksville West Camden Jonesboro Decatur Monticello\n",
      "Topic #6: States United York New birth_place City Jersey Brooklyn California Chicago town Angeles Los Texas Dutchess Manhattan Massachusetts community San Bronx\n",
      "Topic #7: States United Virginia town York City County Parish Louisiana Clifton Maine Alaska Mount Jersey Connecticut small South Hampshire Gap Hill\n",
      "Topic #8: Iowa Kentucky Illinois Idaho Florida Oklahoma Indiana Ohio California country Connecticut County Beach It Alabama Texas The birth_place Louisiana Massachusetts\n",
      "Topic #9: town city Iowa birth_place Kentucky It county The Illinois Oklahoma Florida seat Idaho New America Ohio country American counties community\n",
      "\n"
     ]
    }
   ],
   "source": [
    "alpha, beta = spectral_lda(tf, alpha0=2, k=10)\n",
    "print_top_words_factors(beta.T, tf_vectorizer.get_feature_names(), 20)"
   ]
  },
  {
   "cell_type": "code",
   "execution_count": 33,
   "metadata": {},
   "outputs": [
    {
     "data": {
      "text/plain": [
       "[<matplotlib.lines.Line2D at 0x118358588>]"
      ]
     },
     "execution_count": 33,
     "metadata": {},
     "output_type": "execute_result"
    },
    {
     "data": {
      "image/png": "[encoded data removed]",
      "text/plain": [
       "<matplotlib.figure.Figure at 0x11834a438>"
      ]
     },
     "metadata": {},
     "output_type": "display_data"
    }
   ],
   "source": [
    "plt.plot(alpha)"
   ]
  },
  {
   "cell_type": "code",
   "execution_count": null,
   "metadata": {},
   "outputs": [],
   "source": []
  }
 ],
 "metadata": {
  "kernelspec": {
   "display_name": "Python 3",
   "language": "python",
   "name": "python3"
  },
  "language_info": {
   "codemirror_mode": {
    "name": "ipython",
    "version": 3
   },
   "file_extension": ".py",
   "mimetype": "text/x-python",
   "name": "python",
   "nbconvert_exporter": "python",
   "pygments_lexer": "ipython3",
   "version": "3.6.4"
  }
 },
 "nbformat": 4,
 "nbformat_minor": 2
}
