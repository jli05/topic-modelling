{
 "cells": [
  {
   "cell_type": "code",
   "execution_count": 1,
   "metadata": {},
   "outputs": [],
   "source": [
    "%load_ext autoreload\n",
    "%autoreload 2"
   ]
  },
  {
   "cell_type": "code",
   "execution_count": 2,
   "metadata": {},
   "outputs": [],
   "source": [
    "from time import time\n",
    "\n",
    "from sklearn.feature_extraction.text import CountVectorizer, TfidfVectorizer\n",
    "from sklearn.decomposition import NMF, LatentDirichletAllocation"
   ]
  },
  {
   "cell_type": "code",
   "execution_count": 3,
   "metadata": {},
   "outputs": [],
   "source": [
    "import numpy as np"
   ]
  },
  {
   "cell_type": "code",
   "execution_count": 4,
   "metadata": {},
   "outputs": [],
   "source": [
    "import matplotlib.pyplot as plt\n",
    "%matplotlib inline"
   ]
  },
  {
   "cell_type": "markdown",
   "metadata": {},
   "source": [
    "# Read Documents"
   ]
  },
  {
   "cell_type": "markdown",
   "metadata": {},
   "source": [
    "Simple Wiki's abstracts"
   ]
  },
  {
   "cell_type": "code",
   "execution_count": 5,
   "metadata": {},
   "outputs": [],
   "source": [
    "all_docs = !xmllint --shell /Users/jencirlee/Workbench/data/simplewiki-latest-abstract.xml.gz <<< \"cat //doc/abstract\""
   ]
  },
  {
   "cell_type": "code",
   "execution_count": 6,
   "metadata": {},
   "outputs": [
    {
     "data": {
      "text/plain": [
       "130870"
      ]
     },
     "execution_count": 6,
     "metadata": {},
     "output_type": "execute_result"
    }
   ],
   "source": [
    "all_docs = all_docs[1::2]\n",
    "len(all_docs)"
   ]
  },
  {
   "cell_type": "code",
   "execution_count": null,
   "metadata": {},
   "outputs": [],
   "source": []
  },
  {
   "cell_type": "markdown",
   "metadata": {},
   "source": [
    "# Topic Modelling"
   ]
  },
  {
   "cell_type": "code",
   "execution_count": 7,
   "metadata": {},
   "outputs": [],
   "source": [
    "n_features = 20000\n",
    "n_components = 10"
   ]
  },
  {
   "cell_type": "code",
   "execution_count": 9,
   "metadata": {},
   "outputs": [],
   "source": [
    "def print_top_words_factors(factors, feature_names, n_top_words):\n",
    "    ''' Print top words of each topic '''\n",
    "    for topic_idx, topic in enumerate(factors):\n",
    "        message = f\"Topic #{topic_idx}: \"\n",
    "        message += \" \".join([feature_names[i]\n",
    "                             for i in topic.argsort()[:-n_top_words - 1:-1]])\n",
    "        print(message)\n",
    "    print()\n",
    "\n",
    "def print_top_words(model, feature_names, n_top_words):\n",
    "    ''' Print top words of each topic '''\n",
    "    print_top_words_factors(model.components_, feature_names, n_top_words)"
   ]
  },
  {
   "cell_type": "code",
   "execution_count": null,
   "metadata": {},
   "outputs": [],
   "source": []
  },
  {
   "cell_type": "markdown",
   "metadata": {},
   "source": [
    "## NMF"
   ]
  },
  {
   "cell_type": "code",
   "execution_count": 46,
   "metadata": {},
   "outputs": [],
   "source": [
    "tfidf_vectorizer = TfidfVectorizer(max_df=.95, min_df=2,\n",
    "                                   max_features=n_features,\n",
    "                                   lowercase=False,\n",
    "                                   stop_words='english')\n",
    "tfidf = tfidf_vectorizer.fit_transform(all_docs)"
   ]
  },
  {
   "cell_type": "code",
   "execution_count": 47,
   "metadata": {},
   "outputs": [
    {
     "data": {
      "text/plain": [
       "(616, 20000)"
      ]
     },
     "execution_count": 47,
     "metadata": {},
     "output_type": "execute_result"
    }
   ],
   "source": [
    "docs = tfidf_vectorizer.transform([s for s in all_docs\n",
    "                                   if 'China' in s])\n",
    "docs.shape"
   ]
  },
  {
   "cell_type": "code",
   "execution_count": 48,
   "metadata": {
    "scrolled": true
   },
   "outputs": [
    {
     "data": {
      "text/plain": [
       "NMF(alpha=0.1, beta_loss='frobenius', init='random', l1_ratio=1e-06,\n",
       "  max_iter=200, n_components=20, random_state=None, shuffle=False,\n",
       "  solver='cd', tol=0.0001, verbose=0)"
      ]
     },
     "execution_count": 48,
     "metadata": {},
     "output_type": "execute_result"
    }
   ],
   "source": [
    "nmf = NMF(n_components=20, init='random', alpha=.1, l1_ratio=1e-6)\n",
    "nmf.fit(docs)"
   ]
  },
  {
   "cell_type": "code",
   "execution_count": 49,
   "metadata": {},
   "outputs": [
    {
     "name": "stdout",
     "output_type": "stream",
     "text": [
      "Topic #0: China birth_place Guangzhou national Hebei Guangdong team Tianjin The Hunan Jilin death_place states Hainan Wuhan list noted thumb football It\n",
      "Topic #1: Chinese China Traditional Pinyin Simplified traditional born Year ethnic Mandarin He national The Li chess Hakka people vase association Northeast\n",
      "Topic #2: Taiwan China Republic Taipei Taoyuan mainland Typhoon City Philippines typhoon including Japan islands damage cities people Kaohsiung caused countries parade\n",
      "Topic #3: Henan prefecture level city China province spelled lived 2010 northern In eastern central people western southern It Its 707 Eagle\n",
      "Topic #4: Hong Kong mosque Mosque China Islamic Kowloon Mainland Wan tall floors It skyscraper meters Centre feet Macau center parts Territories\n",
      "Topic #5: Xi Shaanxi pinyin Qū Xiàn China District county district County It Municipality center meaning southeast middle south Province east eastern\n",
      "Topic #6: Liaoning birth_place northeastern port Peninsula important Pinyin located Lang province dragon dromaeosaurid city Archaeopteryx Inner Heilongjiang deposits Mongolia Manchuria China\n",
      "Topic #7: Shandong Province Jiangsu County coast Hebei borders east Hai Huang China west facing Lizard meaning Zhang Upper south fossil Peninsula\n",
      "Topic #8: Republic People China PRC National government country The Guangxi national states anthem autonomous March Marxist city relations Hainan celebrates claimed\n",
      "Topic #9: Zhejiang China city It Municipality Province cities province universities counties municipality oldest University satellite east short named famous southern important\n",
      "Topic #10: Cretaceous dinosaur genus China Lower Jurassic lived ago lizard million years Upper theropod It extinct early Formation earliest period related\n",
      "Topic #11: province capital China Jiangxi Sichuan southeast Province city Fujian The Yunnan largest It Kan east Guangdong County Township coast Hainan\n",
      "Topic #12: Beijing China death_place University university The Origin Summer It Normal symbol national erectus museum prestigious Homo normal 2008 Games 1898\n",
      "Topic #13: Anhui province China county district It administration Ma population people surface 000 situated 830 city 440 294 922 650 215\n",
      "Topic #14: dynasty Dynasty Tang China BC Emperor Shang Han Qing The He Jin Ming Sui emperor dynasties followed Manchu history Period\n",
      "Topic #15: Shanghai China birth_place train International Settlement District Exhibition food Liu 000 Center athlete born 1983 Planning 333 Road floors Station\n",
      "Topic #16: Communist Party China Politburo leader member politician Chinese He 1976 Secretary born Zedong official political General Sun Mao Li ranking\n",
      "Topic #17: Sea China River Yellow It river The Yangtze South East Li longest world northeastern island gulf Thailand tall dolphin Pacific\n",
      "Topic #18: Xinjiang Autonomous Region region China Mountains oasis level city Tibet known Lhasa county It northwest Baltistan foot autonomous 000 desert\n",
      "Topic #19: India China species The hamster Asia Tibet Kashmir Tibetan Cricetidae Korea Vietnam family rodent Pakistan southern Mongolia northern claimed dwarf\n",
      "\n"
     ]
    }
   ],
   "source": [
    "print_top_words(nmf, tfidf_vectorizer.get_feature_names(), n_top_words=20)"
   ]
  },
  {
   "cell_type": "markdown",
   "metadata": {},
   "source": [
    "## Latent Dirichlet Allocation"
   ]
  },
  {
   "cell_type": "markdown",
   "metadata": {},
   "source": [
    "Variational Inference for LDA"
   ]
  },
  {
   "cell_type": "code",
   "execution_count": 10,
   "metadata": {
    "scrolled": true
   },
   "outputs": [
    {
     "data": {
      "text/plain": [
       "CountVectorizer(analyzer='word', binary=False, decode_error='strict',\n",
       "        dtype=<class 'numpy.int64'>, encoding='utf-8', input='content',\n",
       "        lowercase=False, max_df=0.95, max_features=20000, min_df=1,\n",
       "        ngram_range=(1, 1), preprocessor=None, stop_words='english',\n",
       "        strip_accents=None, token_pattern='(?u)\\\\b\\\\w\\\\w+\\\\b',\n",
       "        tokenizer=None, vocabulary=None)"
      ]
     },
     "execution_count": 10,
     "metadata": {},
     "output_type": "execute_result"
    }
   ],
   "source": [
    "tf_vectorizer = CountVectorizer(max_df=0.95, min_df=1,\n",
    "                                max_features=n_features,\n",
    "                                lowercase=False,\n",
    "                                stop_words='english')\n",
    "tf_vectorizer.fit(all_docs)"
   ]
  },
  {
   "cell_type": "code",
   "execution_count": 55,
   "metadata": {},
   "outputs": [
    {
     "data": {
      "text/plain": [
       "(616, 20000)"
      ]
     },
     "execution_count": 55,
     "metadata": {},
     "output_type": "execute_result"
    }
   ],
   "source": [
    "docs = tf_vectorizer.transform([s for s in all_docs\n",
    "                                if 'China' in s])\n",
    "docs.shape"
   ]
  },
  {
   "cell_type": "code",
   "execution_count": 70,
   "metadata": {
    "scrolled": true
   },
   "outputs": [
    {
     "data": {
      "text/plain": [
       "LatentDirichletAllocation(batch_size=128, doc_topic_prior=0.25,\n",
       "             evaluate_every=-1, learning_decay=0.7,\n",
       "             learning_method='online', learning_offset=50.0,\n",
       "             max_doc_update_iter=100, max_iter=20, mean_change_tol=0.001,\n",
       "             n_components=20, n_jobs=1, n_topics=None, perp_tol=0.1,\n",
       "             random_state=None, topic_word_prior=0.5,\n",
       "             total_samples=1000000.0, verbose=0)"
      ]
     },
     "execution_count": 70,
     "metadata": {},
     "output_type": "execute_result"
    }
   ],
   "source": [
    "lda = LatentDirichletAllocation(n_components=20,\n",
    "                                doc_topic_prior=.25,\n",
    "                                topic_word_prior=.5,\n",
    "                                max_iter=20,\n",
    "                                learning_method='online',\n",
    "                                learning_offset=50.)\n",
    "lda.fit(docs)"
   ]
  },
  {
   "cell_type": "code",
   "execution_count": 71,
   "metadata": {},
   "outputs": [
    {
     "name": "stdout",
     "output_type": "stream",
     "text": [
      "Topic #0: China The It Chinese Republic province People city known Taiwan birth_place He people level born Beijing Province genus county Anhui\n",
      "Topic #1: pear Tian China type It countries Japan Gate named Forbidden death food northern plaza Ya Chinese Beijing Test nearest north\n",
      "Topic #2: BC Soviet China Union 195 Han Cold He Republic Dynasty time Sino War ruled Pay 256 connects Slovenian founder relations\n",
      "Topic #3: China Japanese He The United States Emperor Chinese War It Sea years Manga Dynasty Han Japan Ming ancient North Liu\n",
      "Topic #4: China The stars star workers big June wall soldiers Square small background protests citizens Flag countries communist powdered ancient 183\n",
      "Topic #5: China Silk trade Mediterranean east Asia way belief thinking deaths genus The old tree species This Middle Sea weaving southeast\n",
      "Topic #6: China Taiwan The BC Asian Japan Russian countries Chinese birth_place Trans Siberian Republic Moscow East It dynasty Vietnam covers European\n",
      "Topic #7: China The dynasty domesticated It Revolution Tang chess 1911 pass Sikkim started North southern forests Siberian monarchy tigris connects republic\n",
      "Topic #8: China train thumb pop Shanghai Tower Bank Kong used Mandarin short central Most Station Brontë today city countries dry elevated\n",
      "Topic #9: wood thought gun weapon Guns 1000 shoot firearm guns bullets metal invented AD bamboo called used China city City Taiwan\n",
      "Topic #10: Berlin film tiger China Hate Wave Film Republic award Manga leading People wins BBC world Corbett manga festivals books The\n",
      "Topic #11: China The Classic Hong Kong floors larva Chat Three Zi Song San meters Caro Comet 5000 moth Many Portland OC\n",
      "Topic #12: people freedom China fruit democracy party southern stops The tropical having list religion Magna Inglewood pronounced It rights Albis speech\n",
      "Topic #13: China It The Chinese Dynasty followed Sui species province born June dynasty family Kaohsiung Period founded world came Tang Taiwan\n",
      "Topic #14: China game United Dynasty dynasty best Shang calculation country pictures intelligence division Mariano 1741 States political Some 250 politics reading\n",
      "Topic #15: China The Sea Strait strait South East Taiwan country control commonly flowers There cultures Flora histories colored various Burma Han\n",
      "Topic #16: China It The Sea dynasty south East Pinyin Pacific city type Ocean City Hainan Taipei 000 spelled India cattle Africa\n",
      "Topic #17: China Emperor Chiang distinctive Africa 250px died West Hand Donkey President His dynasty names merger daughter She Wu coupled 31\n",
      "Topic #18: China Chinese Party Republic southern It Taiwan The party spoken Mainland originally spelled political Communist 7th thumb moved mainland highlighted\n",
      "Topic #19: left captivity tigris extinct 20 Panthera 30 1492 Both Births 60 statesman tiger bond Lizard earlier Vendée Pa Mongolia Nature\n",
      "\n"
     ]
    }
   ],
   "source": [
    "print_top_words(lda, tf_vectorizer.get_feature_names(), n_top_words=20)"
   ]
  },
  {
   "cell_type": "markdown",
   "metadata": {},
   "source": [
    "## Spectral LDA"
   ]
  },
  {
   "cell_type": "code",
   "execution_count": 12,
   "metadata": {
    "scrolled": true
   },
   "outputs": [
    {
     "name": "stderr",
     "output_type": "stream",
     "text": [
      "Using mxnet backend.\n",
      "/Library/Frameworks/Python.framework/Versions/3.6/lib/python3.6/site-packages/h5py/__init__.py:36: FutureWarning: Conversion of the second argument of issubdtype from `float` to `np.floating` is deprecated. In future, it will be treated as `np.float64 == np.dtype(float).type`.\n",
      "  from ._conv import register_converters as _register_converters\n",
      "Using numpy backend.\n"
     ]
    }
   ],
   "source": [
    "import sys\n",
    "sys.path.insert(0, '../SpectralLDA')\n",
    "\n",
    "from spectral_lda import spectral_lda"
   ]
  },
  {
   "cell_type": "code",
   "execution_count": 75,
   "metadata": {
    "scrolled": true
   },
   "outputs": [
    {
     "name": "stderr",
     "output_type": "stream",
     "text": [
      "# docs: 616\t# valid: 600\n"
     ]
    },
    {
     "ename": "RuntimeError",
     "evalue": "Invalid results from CPDecomp.",
     "output_type": "error",
     "traceback": [
      "\u001b[0;31m---------------------------------------------------------------------------\u001b[0m",
      "\u001b[0;31mRuntimeError\u001b[0m                              Traceback (most recent call last)",
      "\u001b[0;32m<ipython-input-75-85caa9efd13d>\u001b[0m in \u001b[0;36m<module>\u001b[0;34m()\u001b[0m\n\u001b[0;32m----> 1\u001b[0;31m \u001b[0malpha\u001b[0m\u001b[0;34m,\u001b[0m \u001b[0mbeta\u001b[0m \u001b[0;34m=\u001b[0m \u001b[0mspectral_lda\u001b[0m\u001b[0;34m(\u001b[0m\u001b[0mdocs\u001b[0m\u001b[0;34m,\u001b[0m \u001b[0;36m5\u001b[0m\u001b[0;34m,\u001b[0m \u001b[0;36m20\u001b[0m\u001b[0;34m,\u001b[0m \u001b[0meps\u001b[0m\u001b[0;34m=\u001b[0m\u001b[0;36m.80\u001b[0m\u001b[0;34m)\u001b[0m\u001b[0;34m\u001b[0m\u001b[0m\n\u001b[0m",
      "\u001b[0;32m~/Workbench/SpectralLDA/spectral_lda.py\u001b[0m in \u001b[0;36mspectral_lda\u001b[0;34m(docs, alpha0, k, n_partitions, eps)\u001b[0m\n\u001b[1;32m     95\u001b[0m     \u001b[0;31m# Unique factor matrix correcting signs of columns\u001b[0m\u001b[0;34m\u001b[0m\u001b[0;34m\u001b[0m\u001b[0m\n\u001b[1;32m     96\u001b[0m     \u001b[0;31m# in all factor matrices\u001b[0m\u001b[0;34m\u001b[0m\u001b[0;34m\u001b[0m\u001b[0m\n\u001b[0;32m---> 97\u001b[0;31m     \u001b[0munique_factor\u001b[0m \u001b[0;34m=\u001b[0m \u001b[0mfactor_correct_sign\u001b[0m\u001b[0;34m(\u001b[0m\u001b[0mfactors\u001b[0m\u001b[0;34m,\u001b[0m \u001b[0meps\u001b[0m\u001b[0;34m=\u001b[0m\u001b[0meps\u001b[0m\u001b[0;34m)\u001b[0m\u001b[0;34m\u001b[0m\u001b[0m\n\u001b[0m\u001b[1;32m     98\u001b[0m \u001b[0;34m\u001b[0m\u001b[0m\n\u001b[1;32m     99\u001b[0m     \u001b[0;31m# Recompose alpha, beta\u001b[0m\u001b[0;34m\u001b[0m\u001b[0;34m\u001b[0m\u001b[0m\n",
      "\u001b[0;32m~/Workbench/SpectralLDA/spectral_lda.py\u001b[0m in \u001b[0;36mfactor_correct_sign\u001b[0;34m(factors, eps)\u001b[0m\n\u001b[1;32m     60\u001b[0m                 \u001b[0mfactor\u001b[0m\u001b[0;34m[\u001b[0m\u001b[0;34m:\u001b[0m\u001b[0;34m,\u001b[0m \u001b[0mj\u001b[0m\u001b[0;34m]\u001b[0m \u001b[0;34m=\u001b[0m \u001b[0mfactors\u001b[0m\u001b[0;34m[\u001b[0m\u001b[0;36m2\u001b[0m\u001b[0;34m]\u001b[0m\u001b[0;34m[\u001b[0m\u001b[0;34m:\u001b[0m\u001b[0;34m,\u001b[0m \u001b[0mj\u001b[0m\u001b[0;34m]\u001b[0m\u001b[0;34m\u001b[0m\u001b[0m\n\u001b[1;32m     61\u001b[0m             \u001b[0;32melse\u001b[0m\u001b[0;34m:\u001b[0m\u001b[0;34m\u001b[0m\u001b[0m\n\u001b[0;32m---> 62\u001b[0;31m                 \u001b[0;32mraise\u001b[0m \u001b[0mRuntimeError\u001b[0m\u001b[0;34m(\u001b[0m\u001b[0;34m'Invalid results from CPDecomp.'\u001b[0m\u001b[0;34m)\u001b[0m\u001b[0;34m\u001b[0m\u001b[0m\n\u001b[0m\u001b[1;32m     63\u001b[0m \u001b[0;34m\u001b[0m\u001b[0m\n\u001b[1;32m     64\u001b[0m         \u001b[0;32mreturn\u001b[0m \u001b[0mfactor\u001b[0m\u001b[0;34m\u001b[0m\u001b[0m\n",
      "\u001b[0;31mRuntimeError\u001b[0m: Invalid results from CPDecomp."
     ]
    }
   ],
   "source": [
    "alpha, beta = spectral_lda(docs, 5, 20, eps=.80)"
   ]
  },
  {
   "cell_type": "code",
   "execution_count": 73,
   "metadata": {},
   "outputs": [
    {
     "data": {
      "text/plain": [
       "(array([0.05925362, 0.18486831, 0.77896131, 0.14335609, 1.14590444,\n",
       "        0.08582096, 0.49797297, 0.37264371, 0.37460232, 0.1789797 ,\n",
       "        0.17568921, 0.02837142, 0.14877573, 0.12546624, 0.09682436,\n",
       "        0.05977945, 0.17551349, 0.00987483, 0.00896048, 0.0025466 ]),\n",
       " 4.654165257546078)"
      ]
     },
     "execution_count": 73,
     "metadata": {},
     "output_type": "execute_result"
    }
   ],
   "source": [
    "alpha, alpha.sum()"
   ]
  },
  {
   "cell_type": "code",
   "execution_count": 61,
   "metadata": {},
   "outputs": [
    {
     "name": "stdout",
     "output_type": "stream",
     "text": [
      "0.15638433987404624\n"
     ]
    }
   ],
   "source": [
    "print(beta.T[0].max())"
   ]
  },
  {
   "cell_type": "code",
   "execution_count": null,
   "metadata": {},
   "outputs": [],
   "source": []
  },
  {
   "cell_type": "code",
   "execution_count": 62,
   "metadata": {},
   "outputs": [
    {
     "name": "stdout",
     "output_type": "stream",
     "text": [
      "Topic #0: China province Republic The It capital People city Province Zhejiang County Henan east southeast Shandong Jiangxi called Municipality coast largest\n",
      "Topic #1: China birth_place Shanghai Beijing death_place Liaoning District Origin Republic Anhui Guangzhou Hunan Tianjin Settlement Hainan Jilin Guangdong Jiangxi International train\n",
      "Topic #2: Republic Shanghai Chinese Anhui It thumb Liaoning known Japan residence species list Jilin Xi Sea Korea born southeast Li Jiangsu\n",
      "Topic #3: city county national district University team football born birth_place Dynasty Shanghai Chinese dynasty National situated Nanjing Kong He Hong tall\n",
      "Topic #4: China Beijing death_place University university Origin Normal normal Hebei prestigious It universities Nanjing 1898 museum prefecture created Summer symbol oldest\n",
      "Topic #5: Beijing It Chinese birth_place India Wuhan He Hebei Nanjing birthplace National Japan city mountain Dynasty Communist province dynasty Party BC\n",
      "Topic #6: China dynasty The This list BC noted Dynasty mathematicians scientists Hong Kong Shang Emperor Tang Han history following founded rulers\n",
      "Topic #7: People Taiwan Chinese thumb Anhui years residence National Army Revolutionary India Shanghai County Taoyuan area born Xi University dinosaur 250px\n",
      "Topic #8: China Cretaceous dinosaur Lower genus It Jurassic lived related Upper lizard early million ago theropod years extinct Shandong Formation meaning\n",
      "Topic #9: China city province Henan level prefecture Republic spelled northern 2010 In lived It people eastern People western Its central Province\n",
      "Topic #10: China Republic People train District district administration Kan surface Canton population Pinyin capital mosque Ma Exhibition Station International food Chinatown\n",
      "Topic #11: Xi Shaanxi pinyin It District Qū China district Xiàn County county center south meaning east Province southeast middle Chang Municipality\n",
      "Topic #12: It The Hebei birth_place death_place Beijing Its university In domesticated University India He east Origin Prefecture Hunan named Shandong Hong\n",
      "Topic #13: China province It Anhui district county people surface situated administration capital The Ma population 000 city municipality 215 east 830\n",
      "Topic #14: province Chinese known birth_place Municipality spelled national family southern Republic India situated dynasty species Sea states river Xinjiang largest Shandong\n",
      "Topic #15: Anhui Chinese Beijing Republic noted list This birth_place Zhejiang Taiwan Japan Cretaceous known mathematicians scientists region death_place Korea dinosaur Province\n",
      "Topic #16: China birth_place Shanghai Shandong District Liaoning International Province Settlement train County Zhejiang county Hunan district food Guangzhou Jiangxi Inner Station\n",
      "Topic #17: birth_place Chinese It The residence thumb Jiangsu birthplace known Wuhan Japan province Sea Korea list species level born city South\n",
      "Topic #18: death_place The Shanghai Republic Origin thumb residence level county It Henan Chinese known lived Sea Jilin province capital Hainan Li\n",
      "Topic #19: Shanghai Beijing Liaoning Anhui The Hebei Chinese It Jilin residence Wuhan Taiwan Jiangxi Guangdong Guangzhou Hainan Tianjin birthplace Hunan National\n",
      "\n"
     ]
    }
   ],
   "source": [
    "print_top_words_factors(beta.T, tf_vectorizer.get_feature_names(), 20)"
   ]
  },
  {
   "cell_type": "code",
   "execution_count": null,
   "metadata": {},
   "outputs": [],
   "source": []
  },
  {
   "cell_type": "code",
   "execution_count": null,
   "metadata": {},
   "outputs": [],
   "source": []
  }
 ],
 "metadata": {
  "kernelspec": {
   "display_name": "Python 3",
   "language": "python",
   "name": "python3"
  },
  "language_info": {
   "codemirror_mode": {
    "name": "ipython",
    "version": 3
   },
   "file_extension": ".py",
   "mimetype": "text/x-python",
   "name": "python",
   "nbconvert_exporter": "python",
   "pygments_lexer": "ipython3",
   "version": "3.6.4"
  }
 },
 "nbformat": 4,
 "nbformat_minor": 2
}
