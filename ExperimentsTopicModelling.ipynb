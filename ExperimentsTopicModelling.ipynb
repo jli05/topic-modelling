{
 "cells": [
  {
   "cell_type": "code",
   "execution_count": 1,
   "metadata": {},
   "outputs": [],
   "source": [
    "%load_ext autoreload\n",
    "%autoreload 2"
   ]
  },
  {
   "cell_type": "code",
   "execution_count": 2,
   "metadata": {},
   "outputs": [],
   "source": [
    "from time import time\n",
    "\n",
    "from sklearn.feature_extraction.text import CountVectorizer, TfidfVectorizer\n",
    "from sklearn.decomposition import NMF, LatentDirichletAllocation"
   ]
  },
  {
   "cell_type": "code",
   "execution_count": 3,
   "metadata": {},
   "outputs": [],
   "source": [
    "import numpy as np"
   ]
  },
  {
   "cell_type": "code",
   "execution_count": 4,
   "metadata": {},
   "outputs": [],
   "source": [
    "import matplotlib.pyplot as plt\n",
    "%matplotlib inline"
   ]
  },
  {
   "cell_type": "markdown",
   "metadata": {},
   "source": [
    "# Read Documents"
   ]
  },
  {
   "cell_type": "markdown",
   "metadata": {},
   "source": [
    "Simple Wiki's abstracts"
   ]
  },
  {
   "cell_type": "code",
   "execution_count": 5,
   "metadata": {},
   "outputs": [],
   "source": [
    "all_docs = !xmllint --shell /Users/jencirlee/Workbench/data/simplewiki-latest-abstract.xml.gz <<< \"cat //doc/abstract\""
   ]
  },
  {
   "cell_type": "code",
   "execution_count": 6,
   "metadata": {},
   "outputs": [
    {
     "data": {
      "text/plain": [
       "130870"
      ]
     },
     "execution_count": 6,
     "metadata": {},
     "output_type": "execute_result"
    }
   ],
   "source": [
    "all_docs = all_docs[1::2]\n",
    "len(all_docs)"
   ]
  },
  {
   "cell_type": "code",
   "execution_count": 36,
   "metadata": {},
   "outputs": [
    {
     "data": {
      "text/plain": [
       "6130"
      ]
     },
     "execution_count": 36,
     "metadata": {},
     "output_type": "execute_result"
    }
   ],
   "source": [
    "docs = [s for s in all_docs\n",
    "        if 'United States' in s]\n",
    "len(docs)"
   ]
  },
  {
   "cell_type": "code",
   "execution_count": null,
   "metadata": {},
   "outputs": [],
   "source": []
  },
  {
   "cell_type": "markdown",
   "metadata": {},
   "source": [
    "# Topic Modelling"
   ]
  },
  {
   "cell_type": "code",
   "execution_count": 8,
   "metadata": {},
   "outputs": [],
   "source": [
    "n_features = 20000\n",
    "n_components = 10"
   ]
  },
  {
   "cell_type": "code",
   "execution_count": 9,
   "metadata": {},
   "outputs": [],
   "source": [
    "def print_top_words_factors(factors, feature_names, n_top_words):\n",
    "    ''' Print top words of each topic '''\n",
    "    for topic_idx, topic in enumerate(factors):\n",
    "        message = f\"Topic #{topic_idx}: \"\n",
    "        message += \" \".join([feature_names[i]\n",
    "                             for i in topic.argsort()[:-n_top_words - 1:-1]])\n",
    "        print(message)\n",
    "    print()\n",
    "\n",
    "def print_top_words(model, feature_names, n_top_words):\n",
    "    ''' Print top words of each topic '''\n",
    "    print_top_words_factors(model.components_, feature_names, n_top_words)"
   ]
  },
  {
   "cell_type": "code",
   "execution_count": null,
   "metadata": {},
   "outputs": [],
   "source": []
  },
  {
   "cell_type": "markdown",
   "metadata": {},
   "source": [
    "## NMF"
   ]
  },
  {
   "cell_type": "code",
   "execution_count": 10,
   "metadata": {},
   "outputs": [
    {
     "data": {
      "text/plain": [
       "TfidfVectorizer(analyzer='word', binary=False, decode_error='strict',\n",
       "        dtype=<class 'numpy.int64'>, encoding='utf-8', input='content',\n",
       "        lowercase=False, max_df=0.95, max_features=20000, min_df=1,\n",
       "        ngram_range=(1, 1), norm='l2', preprocessor=None, smooth_idf=True,\n",
       "        stop_words='english', strip_accents=None, sublinear_tf=False,\n",
       "        token_pattern='(?u)\\\\b\\\\w\\\\w+\\\\b', tokenizer=None, use_idf=True,\n",
       "        vocabulary=None)"
      ]
     },
     "execution_count": 10,
     "metadata": {},
     "output_type": "execute_result"
    }
   ],
   "source": [
    "tfidf_vectorizer = TfidfVectorizer(max_df=.95, min_df=1,\n",
    "                                   max_features=n_features,\n",
    "                                   lowercase=False,\n",
    "                                   stop_words='english')\n",
    "tfidf_vectorizer.fit(all_docs)"
   ]
  },
  {
   "cell_type": "code",
   "execution_count": 37,
   "metadata": {
    "scrolled": true
   },
   "outputs": [
    {
     "data": {
      "text/plain": [
       "(6130, 20000)"
      ]
     },
     "execution_count": 37,
     "metadata": {},
     "output_type": "execute_result"
    }
   ],
   "source": [
    "tfidf = tfidf_vectorizer.transform(docs)\n",
    "tfidf.shape"
   ]
  },
  {
   "cell_type": "code",
   "execution_count": 40,
   "metadata": {},
   "outputs": [],
   "source": [
    "# vectorized documents\n",
    "vec_docs = .2 * tf + .8 * tfidf"
   ]
  },
  {
   "cell_type": "code",
   "execution_count": 41,
   "metadata": {
    "scrolled": false
   },
   "outputs": [
    {
     "data": {
      "text/plain": [
       "NMF(alpha=0.3, beta_loss='frobenius', init='random', l1_ratio=1e-06,\n",
       "  max_iter=200, n_components=20, random_state=None, shuffle=False,\n",
       "  solver='cd', tol=0.0001, verbose=0)"
      ]
     },
     "execution_count": 41,
     "metadata": {},
     "output_type": "execute_result"
    }
   ],
   "source": [
    "nmf = NMF(n_components=20, init='random', alpha=.3, l1_ratio=1e-6)\n",
    "nmf.fit(vec_docs)"
   ]
  },
  {
   "cell_type": "code",
   "execution_count": 42,
   "metadata": {},
   "outputs": [
    {
     "name": "stdout",
     "output_type": "stream",
     "text": [
      "Topic #0: United States American He Army government country born Constitution Louisiana Court Canada In Navy Kingdom people Department Census Parish Supreme\n",
      "Topic #1: The States United War National American government Department Canada Congress North agency League started used group World season Act known\n",
      "Topic #2: Kentucky States United city Kenton Hills Park Hardin Harlan County Estates City Creek Campbell Manor Grove Spring Louisville Hollow Hill\n",
      "Topic #3: Illinois States Chicago United Park City Cook Heights village Mount Peoria Will Oak Side city State Evanston Frankfort Governor Loop\n",
      "Topic #4: city States United Ohio St Illinois As Alabama largest population Valley Connecticut Springfield Heights Springs London Franklin Indiana Mount Area\n",
      "Topic #5: census population 2010 2000 Alabama County At As United States designated place town Census CDP The village Wisconsin Jefferson Maine\n",
      "Topic #6: President Reagan States United presidential election inauguration Ronald Vice 2016 January took place held The March Republican November Presidential address\n",
      "Topic #7: birth_place States United Texas Massachusetts Chicago Pennsylvania Ohio Houston Jersey Missouri Michigan Carolina North Boston Mississippi Dallas Brooklyn Alabama St\n",
      "Topic #8: County people community 2010 States United lived unincorporated Dutchess town Ohio As counties In Kenton living Jefferson state Texas Carolina\n",
      "Topic #9: Iowa States United city City Rock 2000 Grove Center Lake Junction people Falls Sioux Mount living Rapids Moines Mitchell River\n",
      "Topic #10: Oklahoma States United City city seat County It Tulsa Seminole State Origin Grove Gould Duncan western governors Panhandle Cimarron sticks\n",
      "Topic #11: Idaho States United city Falls City Twin Lake Springs River Ferry Hope Teton Lava St Hot Park Cascade Lewiston Dover\n",
      "Topic #12: It United States skyscraper feet floors tall meters largest Chicago started River season network episode Fox second Simpsons released 2016\n",
      "Topic #13: county seat County Ohio It States United state city parish Louisiana Kansas In Parish Texas Calhoun Ottawa Valley Colorado Butler\n",
      "Topic #14: Virginia town States United West Mount Norfolk Hampton Gate Gap About Blue South Clifton McClure Creek Nelson Royal Ridge Hill\n",
      "Topic #15: Indiana state States United City Delaware states people 2000 living Wisconsin county governments Castle Michigan Gary Amendment Indianapolis Pennsylvania Bloomington\n",
      "Topic #16: New York City States United Jersey Brooklyn birth_place Dutchess Manhattan community Bronx skyscraper meters feet tall floors Queens Haven Island\n",
      "Topic #17: California Angeles Los San States United Santa Francisco Hills birth_place University Beverly Valley Berkeley Barbara Hollywood Diego university Burbank Jose\n",
      "Topic #18: Arkansas America state States United city North Springs Sebastian City living Rock located 2000 Bluff West Little Mountain Fulton Camden\n",
      "Topic #19: Florida States United Beach Miami Lake City city Springs Flagler Palm County Tampa Gulf Coast Gadsden Park Lauderdale Dade Jacksonville\n",
      "\n"
     ]
    }
   ],
   "source": [
    "print_top_words(nmf, tfidf_vectorizer.get_feature_names(), n_top_words=20)"
   ]
  },
  {
   "cell_type": "code",
   "execution_count": 43,
   "metadata": {},
   "outputs": [
    {
     "data": {
      "text/plain": [
       "(array([1.000e+00, 7.430e+02, 1.288e+03, 1.744e+03, 1.306e+03, 4.940e+02,\n",
       "        3.480e+02, 1.550e+02, 4.300e+01, 8.000e+00]),\n",
       " array([0.00702915, 0.04850827, 0.0899874 , 0.13146652, 0.17294565,\n",
       "        0.21442477, 0.25590389, 0.29738302, 0.33886214, 0.38034127,\n",
       "        0.42182039]),\n",
       " <a list of 10 Patch objects>)"
      ]
     },
     "execution_count": 43,
     "metadata": {},
     "output_type": "execute_result"
    },
    {
     "data": {
      "image/png": "[encoded data removed]",
      "text/plain": [
       "<matplotlib.figure.Figure at 0x11476d5c0>"
      ]
     },
     "metadata": {},
     "output_type": "display_data"
    }
   ],
   "source": [
    "plt.hist(nmf.transform(vec_docs).max(axis=1))"
   ]
  },
  {
   "cell_type": "code",
   "execution_count": 61,
   "metadata": {},
   "outputs": [
    {
     "data": {
      "text/plain": [
       "5"
      ]
     },
     "execution_count": 61,
     "metadata": {},
     "output_type": "execute_result"
    }
   ],
   "source": [
    "__topic_nmf = nmf.transform(tfidf)[:, 6] > .3\n",
    "__topic_nmf.sum()"
   ]
  },
  {
   "cell_type": "code",
   "execution_count": 62,
   "metadata": {
    "scrolled": true
   },
   "outputs": [
    {
     "data": {
      "text/plain": [
       "array([\"<abstract>The Yangtze River, or Yangzi (Simple Chinese: 扬子江 / Traditional Chinese: 揚子江), or Chang Jiang (Simple Chinese: 长江 / Traditional Chinese: 長江), is the longest River in China and Asia, as well as the world's third longest river (after the Amazon and the Nile). It is honored as one of the two main cradles of Chinese civilization.</abstract>\",\n",
       "       '<abstract>The Hanyu Shuiping Kaoshi, (simplified Chinese: 汉语水平考试; traditional Chinese: 漢語水平考試; hanyu pinyin: Hànyǔ Shuǐpíng Kǎoshì), shortened as HSK, is the People\\'s Republic of China\\'s only standardized test of Standard Mandarin Chinese proficiency for non-native speakers, such as foreign students, overseas Chinese, and members of ethnic minority groups in China. It is also known as the \"Chinese Proficiency Test\".</abstract>',\n",
       "       \"<abstract>The CCTV New Year's Gala (Simplified Chinese: 中国中央电视台春节联欢晚会; Traditional Chinese: 中國中央電視台春節聯歡晚會; Pinyin: Zhōngguó zhōngyāng diànshìtái chūnjié liánhuān wǎnhuì) is a Chinese New Year special produced by China Central Television.</abstract>\",\n",
       "       '<abstract>Wang Lisi (Simplified Chinese: 王丽思, Traditional Chinese: 王麗思; born on 28 November 1991 in Nanjing, China) is a Chinese association football midfielder who currently plays for Jiangsu Huatai\\tand the China.</abstract>',\n",
       "       '<abstract>Shandong Luneng Taishan Football Club (Chinese: 山东鲁能泰山;Traditional Chinese: 山東魯能泰山; Pinyin: Shāndōng Lǔnéng Tàishān) is a Chinese professional association football club based in Jinan, Shandong, China. The club currently plays in the Chinese Super League.</abstract>'],\n",
       "      dtype='<U582')"
      ]
     },
     "execution_count": 62,
     "metadata": {},
     "output_type": "execute_result"
    }
   ],
   "source": [
    "np.array(docs)[__topic_nmf]"
   ]
  },
  {
   "cell_type": "markdown",
   "metadata": {},
   "source": [
    "## Latent Dirichlet Allocation"
   ]
  },
  {
   "cell_type": "markdown",
   "metadata": {},
   "source": [
    "Variational Inference for LDA"
   ]
  },
  {
   "cell_type": "code",
   "execution_count": 18,
   "metadata": {
    "scrolled": true
   },
   "outputs": [
    {
     "data": {
      "text/plain": [
       "CountVectorizer(analyzer='word', binary=False, decode_error='strict',\n",
       "        dtype=<class 'numpy.int64'>, encoding='utf-8', input='content',\n",
       "        lowercase=False, max_df=0.95, max_features=20000, min_df=1,\n",
       "        ngram_range=(1, 1), preprocessor=None, stop_words='english',\n",
       "        strip_accents=None, token_pattern='(?u)\\\\b\\\\w\\\\w+\\\\b',\n",
       "        tokenizer=None,\n",
       "        vocabulary={'April': 1545, '4th': 919, 'month': 16237, 'year': 19948, 'comes': 12685, 'March': 6900, 'May': 7036, 'It': 5717, 'months': 16239, '30': 746, 'days': 13200, 'August': 1715, '8th': 1086, 'Gregorian': 4915, 'calendar': 12207, 'coming': 12691, 'July': 5939, 'September': 9358, 'Art': 1629, '...usa': 1860, 'Arthrostylidium': 1631, 'Losser': 6607, 'Zorlu': 11154, 'Takam': 10011, 'Parvat': 8179})"
      ]
     },
     "execution_count": 18,
     "metadata": {},
     "output_type": "execute_result"
    }
   ],
   "source": [
    "tf_vectorizer = CountVectorizer(max_df=0.95, min_df=1,\n",
    "                                max_features=n_features,\n",
    "                                lowercase=False,\n",
    "                                stop_words='english',\n",
    "                                vocabulary=tfidf_vectorizer.vocabulary_)\n",
    "tf_vectorizer.fit(all_docs)"
   ]
  },
  {
   "cell_type": "code",
   "execution_count": 38,
   "metadata": {},
   "outputs": [
    {
     "data": {
      "text/plain": [
       "(6130, 20000)"
      ]
     },
     "execution_count": 38,
     "metadata": {},
     "output_type": "execute_result"
    }
   ],
   "source": [
    "tf = tf_vectorizer.transform(docs)\n",
    "tf.shape"
   ]
  },
  {
   "cell_type": "code",
   "execution_count": 13,
   "metadata": {
    "scrolled": true
   },
   "outputs": [
    {
     "data": {
      "text/plain": [
       "LatentDirichletAllocation(batch_size=128, doc_topic_prior=1,\n",
       "             evaluate_every=-1, learning_decay=0.7,\n",
       "             learning_method='online', learning_offset=1000,\n",
       "             max_doc_update_iter=100, max_iter=10, mean_change_tol=0.001,\n",
       "             n_components=20, n_jobs=1, n_topics=None, perp_tol=0.1,\n",
       "             random_state=None, topic_word_prior=0.1,\n",
       "             total_samples=1000000.0, verbose=0)"
      ]
     },
     "execution_count": 13,
     "metadata": {},
     "output_type": "execute_result"
    }
   ],
   "source": [
    "lda = LatentDirichletAllocation(n_components=20,\n",
    "                                doc_topic_prior=1,\n",
    "                                topic_word_prior=.1,\n",
    "                                max_iter=10,\n",
    "                                learning_method='online',\n",
    "                                learning_offset=1000)\n",
    "lda.fit(tf)"
   ]
  },
  {
   "cell_type": "code",
   "execution_count": 14,
   "metadata": {},
   "outputs": [
    {
     "name": "stdout",
     "output_type": "stream",
     "text": [
      "Topic #0: United States city Iowa state Illinois Arkansas birth_place Kentucky America Idaho Florida Virginia It California Texas Indiana Houston The Oklahoma\n",
      "Topic #1: States United city birth_place Iowa Kentucky town Virginia Illinois state Arkansas City America New Oklahoma Louis Florida It Idaho Indiana\n",
      "Topic #2: States United city birth_place Iowa town Florida state Illinois America The Virginia It Idaho County New Kentucky California Arkansas Oklahoma\n",
      "Topic #3: States United city birth_place Kentucky Iowa Illinois New town state Virginia York County America Florida California It The City Louisiana\n",
      "Topic #4: States United city Iowa birth_place Illinois Idaho Kentucky state Florida New County California America Oklahoma It town Virginia Texas The\n",
      "Topic #5: States United city Iowa birth_place town City state Virginia Kentucky New Illinois America California Idaho York Arkansas Florida Indiana County\n",
      "Topic #6: States United city Iowa birth_place Kentucky Illinois Virginia state town Idaho Oklahoma Florida Arkansas County New Heights City It America\n",
      "Topic #7: United States city Iowa birth_place Virginia Illinois town state Kentucky New County Florida It York Arkansas America California Indiana City\n",
      "Topic #8: United States The It County city American people population 2010 New census President county seat state He 2000 York born\n",
      "Topic #9: States United city birth_place Iowa Kentucky town Virginia state Florida Indiana Illinois Arkansas York America New Idaho Massachusetts Oklahoma The\n",
      "Topic #10: States United city birth_place Kentucky Iowa Idaho Illinois New City state Oklahoma Virginia County Florida York California Parish town Indiana\n",
      "Topic #11: United States city Iowa Kentucky birth_place New Illinois California Virginia Angeles state Florida Los County York Indiana City Idaho town\n",
      "Topic #12: States United city Iowa birth_place Kentucky Oklahoma The town New state Illinois America County Virginia Idaho Florida Texas It Indiana\n",
      "Topic #13: States United city birth_place Iowa Kentucky Illinois Virginia Florida town Oklahoma America County Arkansas City California New The Idaho state\n",
      "Topic #14: United States city birth_place Kentucky Illinois Iowa Florida New state America City town County It Virginia Idaho Arkansas California Oklahoma\n",
      "Topic #15: United States birth_place New York city City Illinois California Kentucky It Brooklyn Florida Iowa Virginia The town America Los state\n",
      "Topic #16: States United city state birth_place America Arkansas Iowa Kentucky Illinois County Florida town It Virginia New Idaho chicken Indiana York\n",
      "Topic #17: United States city birth_place Iowa Illinois state Kentucky Idaho Florida New town America Virginia The It Louisiana decision Arkansas County\n",
      "Topic #18: United States city Virginia Iowa town birth_place Kentucky America Arkansas state Florida Illinois California Idaho County It Oklahoma St Texas\n",
      "Topic #19: city United States Iowa birth_place Illinois Florida state Kentucky Idaho It America Virginia Arkansas New City County town California Oklahoma\n",
      "\n"
     ]
    }
   ],
   "source": [
    "print_top_words(lda, tf_vectorizer.get_feature_names(), n_top_words=20)"
   ]
  },
  {
   "cell_type": "code",
   "execution_count": 74,
   "metadata": {},
   "outputs": [
    {
     "data": {
      "text/plain": [
       "(array([1.000e+00, 2.300e+01, 2.000e+00, 5.200e+01, 1.959e+03, 9.940e+02,\n",
       "        6.330e+02, 1.027e+03, 1.157e+03, 2.820e+02]),\n",
       " array([0.23998861, 0.30997159, 0.37995458, 0.44993757, 0.51992055,\n",
       "        0.58990354, 0.65988653, 0.72986952, 0.7998525 , 0.86983549,\n",
       "        0.93981848]),\n",
       " <a list of 10 Patch objects>)"
      ]
     },
     "execution_count": 74,
     "metadata": {},
     "output_type": "execute_result"
    },
    {
     "data": {
      "image/png": "[encoded data removed]",
      "text/plain": [
       "<matplotlib.figure.Figure at 0x11814d6a0>"
      ]
     },
     "metadata": {},
     "output_type": "display_data"
    }
   ],
   "source": [
    "plt.hist(lda.transform(tf).max(axis=1))"
   ]
  },
  {
   "cell_type": "code",
   "execution_count": 77,
   "metadata": {},
   "outputs": [
    {
     "data": {
      "text/plain": [
       "0"
      ]
     },
     "execution_count": 77,
     "metadata": {},
     "output_type": "execute_result"
    }
   ],
   "source": [
    "__topic_lda = lda.transform(tf)[:, 3] > .1\n",
    "__topic_lda.sum()"
   ]
  },
  {
   "cell_type": "markdown",
   "metadata": {},
   "source": [
    "## Spectral LDA"
   ]
  },
  {
   "cell_type": "code",
   "execution_count": 15,
   "metadata": {
    "scrolled": true
   },
   "outputs": [
    {
     "name": "stderr",
     "output_type": "stream",
     "text": [
      "Using mxnet backend.\n",
      "/Library/Frameworks/Python.framework/Versions/3.6/lib/python3.6/site-packages/h5py/__init__.py:36: FutureWarning: Conversion of the second argument of issubdtype from `float` to `np.floating` is deprecated. In future, it will be treated as `np.float64 == np.dtype(float).type`.\n",
      "  from ._conv import register_converters as _register_converters\n",
      "Using numpy backend.\n"
     ]
    }
   ],
   "source": [
    "import sys\n",
    "sys.path.insert(0, '../SpectralLDA')\n",
    "\n",
    "from spectral_lda import spectral_lda"
   ]
  },
  {
   "cell_type": "code",
   "execution_count": 31,
   "metadata": {
    "scrolled": true
   },
   "outputs": [
    {
     "name": "stderr",
     "output_type": "stream",
     "text": [
      "# docs: 6130\t# valid: 6106\n"
     ]
    },
    {
     "ename": "RuntimeError",
     "evalue": "Invalid results from CPDecomp.",
     "output_type": "error",
     "traceback": [
      "\u001b[0;31m---------------------------------------------------------------------------\u001b[0m",
      "\u001b[0;31mRuntimeError\u001b[0m                              Traceback (most recent call last)",
      "\u001b[0;32m<ipython-input-31-015cfd80669b>\u001b[0m in \u001b[0;36m<module>\u001b[0;34m()\u001b[0m\n\u001b[0;32m----> 1\u001b[0;31m \u001b[0malpha\u001b[0m\u001b[0;34m,\u001b[0m \u001b[0mbeta\u001b[0m \u001b[0;34m=\u001b[0m \u001b[0mspectral_lda\u001b[0m\u001b[0;34m(\u001b[0m\u001b[0mtf\u001b[0m\u001b[0;34m,\u001b[0m \u001b[0;36m20\u001b[0m\u001b[0;34m,\u001b[0m \u001b[0;36m20\u001b[0m\u001b[0;34m,\u001b[0m \u001b[0meps\u001b[0m\u001b[0;34m=\u001b[0m\u001b[0;36m1.0\u001b[0m\u001b[0;34m)\u001b[0m\u001b[0;34m\u001b[0m\u001b[0m\n\u001b[0m",
      "\u001b[0;32m~/Workbench/SpectralLDA/spectral_lda.py\u001b[0m in \u001b[0;36mspectral_lda\u001b[0;34m(docs, alpha0, k, n_partitions, eps)\u001b[0m\n\u001b[1;32m     95\u001b[0m     \u001b[0;31m# Unique factor matrix correcting signs of columns\u001b[0m\u001b[0;34m\u001b[0m\u001b[0;34m\u001b[0m\u001b[0m\n\u001b[1;32m     96\u001b[0m     \u001b[0;31m# in all factor matrices\u001b[0m\u001b[0;34m\u001b[0m\u001b[0;34m\u001b[0m\u001b[0m\n\u001b[0;32m---> 97\u001b[0;31m     \u001b[0munique_factor\u001b[0m \u001b[0;34m=\u001b[0m \u001b[0mfactor_correct_sign\u001b[0m\u001b[0;34m(\u001b[0m\u001b[0mfactors\u001b[0m\u001b[0;34m,\u001b[0m \u001b[0meps\u001b[0m\u001b[0;34m=\u001b[0m\u001b[0meps\u001b[0m\u001b[0;34m)\u001b[0m\u001b[0;34m\u001b[0m\u001b[0m\n\u001b[0m\u001b[1;32m     98\u001b[0m \u001b[0;34m\u001b[0m\u001b[0m\n\u001b[1;32m     99\u001b[0m     \u001b[0;31m# Recompose alpha, beta\u001b[0m\u001b[0;34m\u001b[0m\u001b[0;34m\u001b[0m\u001b[0m\n",
      "\u001b[0;32m~/Workbench/SpectralLDA/spectral_lda.py\u001b[0m in \u001b[0;36mfactor_correct_sign\u001b[0;34m(factors, eps)\u001b[0m\n\u001b[1;32m     60\u001b[0m                 \u001b[0mfactor\u001b[0m\u001b[0;34m[\u001b[0m\u001b[0;34m:\u001b[0m\u001b[0;34m,\u001b[0m \u001b[0mj\u001b[0m\u001b[0;34m]\u001b[0m \u001b[0;34m=\u001b[0m \u001b[0mfactors\u001b[0m\u001b[0;34m[\u001b[0m\u001b[0;36m2\u001b[0m\u001b[0;34m]\u001b[0m\u001b[0;34m[\u001b[0m\u001b[0;34m:\u001b[0m\u001b[0;34m,\u001b[0m \u001b[0mj\u001b[0m\u001b[0;34m]\u001b[0m\u001b[0;34m\u001b[0m\u001b[0m\n\u001b[1;32m     61\u001b[0m             \u001b[0;32melse\u001b[0m\u001b[0;34m:\u001b[0m\u001b[0;34m\u001b[0m\u001b[0m\n\u001b[0;32m---> 62\u001b[0;31m                 \u001b[0;32mraise\u001b[0m \u001b[0mRuntimeError\u001b[0m\u001b[0;34m(\u001b[0m\u001b[0;34m'Invalid results from CPDecomp.'\u001b[0m\u001b[0;34m)\u001b[0m\u001b[0;34m\u001b[0m\u001b[0m\n\u001b[0m\u001b[1;32m     63\u001b[0m \u001b[0;34m\u001b[0m\u001b[0m\n\u001b[1;32m     64\u001b[0m         \u001b[0;32mreturn\u001b[0m \u001b[0mfactor\u001b[0m\u001b[0;34m\u001b[0m\u001b[0m\n",
      "\u001b[0;31mRuntimeError\u001b[0m: Invalid results from CPDecomp."
     ]
    }
   ],
   "source": [
    "alpha, beta = spectral_lda(tf, 20, 20, eps=1.0)"
   ]
  },
  {
   "cell_type": "code",
   "execution_count": 73,
   "metadata": {},
   "outputs": [
    {
     "data": {
      "text/plain": [
       "(array([0.05925362, 0.18486831, 0.77896131, 0.14335609, 1.14590444,\n",
       "        0.08582096, 0.49797297, 0.37264371, 0.37460232, 0.1789797 ,\n",
       "        0.17568921, 0.02837142, 0.14877573, 0.12546624, 0.09682436,\n",
       "        0.05977945, 0.17551349, 0.00987483, 0.00896048, 0.0025466 ]),\n",
       " 4.654165257546078)"
      ]
     },
     "execution_count": 73,
     "metadata": {},
     "output_type": "execute_result"
    }
   ],
   "source": [
    "alpha, alpha.sum()"
   ]
  },
  {
   "cell_type": "code",
   "execution_count": 61,
   "metadata": {},
   "outputs": [
    {
     "name": "stdout",
     "output_type": "stream",
     "text": [
      "0.15638433987404624\n"
     ]
    }
   ],
   "source": [
    "print(beta.T[0].max())"
   ]
  },
  {
   "cell_type": "code",
   "execution_count": null,
   "metadata": {},
   "outputs": [],
   "source": []
  },
  {
   "cell_type": "code",
   "execution_count": 62,
   "metadata": {},
   "outputs": [
    {
     "name": "stdout",
     "output_type": "stream",
     "text": [
      "Topic #0: China province Republic The It capital People city Province Zhejiang County Henan east southeast Shandong Jiangxi called Municipality coast largest\n",
      "Topic #1: China birth_place Shanghai Beijing death_place Liaoning District Origin Republic Anhui Guangzhou Hunan Tianjin Settlement Hainan Jilin Guangdong Jiangxi International train\n",
      "Topic #2: Republic Shanghai Chinese Anhui It thumb Liaoning known Japan residence species list Jilin Xi Sea Korea born southeast Li Jiangsu\n",
      "Topic #3: city county national district University team football born birth_place Dynasty Shanghai Chinese dynasty National situated Nanjing Kong He Hong tall\n",
      "Topic #4: China Beijing death_place University university Origin Normal normal Hebei prestigious It universities Nanjing 1898 museum prefecture created Summer symbol oldest\n",
      "Topic #5: Beijing It Chinese birth_place India Wuhan He Hebei Nanjing birthplace National Japan city mountain Dynasty Communist province dynasty Party BC\n",
      "Topic #6: China dynasty The This list BC noted Dynasty mathematicians scientists Hong Kong Shang Emperor Tang Han history following founded rulers\n",
      "Topic #7: People Taiwan Chinese thumb Anhui years residence National Army Revolutionary India Shanghai County Taoyuan area born Xi University dinosaur 250px\n",
      "Topic #8: China Cretaceous dinosaur Lower genus It Jurassic lived related Upper lizard early million ago theropod years extinct Shandong Formation meaning\n",
      "Topic #9: China city province Henan level prefecture Republic spelled northern 2010 In lived It people eastern People western Its central Province\n",
      "Topic #10: China Republic People train District district administration Kan surface Canton population Pinyin capital mosque Ma Exhibition Station International food Chinatown\n",
      "Topic #11: Xi Shaanxi pinyin It District Qū China district Xiàn County county center south meaning east Province southeast middle Chang Municipality\n",
      "Topic #12: It The Hebei birth_place death_place Beijing Its university In domesticated University India He east Origin Prefecture Hunan named Shandong Hong\n",
      "Topic #13: China province It Anhui district county people surface situated administration capital The Ma population 000 city municipality 215 east 830\n",
      "Topic #14: province Chinese known birth_place Municipality spelled national family southern Republic India situated dynasty species Sea states river Xinjiang largest Shandong\n",
      "Topic #15: Anhui Chinese Beijing Republic noted list This birth_place Zhejiang Taiwan Japan Cretaceous known mathematicians scientists region death_place Korea dinosaur Province\n",
      "Topic #16: China birth_place Shanghai Shandong District Liaoning International Province Settlement train County Zhejiang county Hunan district food Guangzhou Jiangxi Inner Station\n",
      "Topic #17: birth_place Chinese It The residence thumb Jiangsu birthplace known Wuhan Japan province Sea Korea list species level born city South\n",
      "Topic #18: death_place The Shanghai Republic Origin thumb residence level county It Henan Chinese known lived Sea Jilin province capital Hainan Li\n",
      "Topic #19: Shanghai Beijing Liaoning Anhui The Hebei Chinese It Jilin residence Wuhan Taiwan Jiangxi Guangdong Guangzhou Hainan Tianjin birthplace Hunan National\n",
      "\n"
     ]
    }
   ],
   "source": [
    "print_top_words_factors(beta.T, tf_vectorizer.get_feature_names(), 20)"
   ]
  },
  {
   "cell_type": "code",
   "execution_count": null,
   "metadata": {},
   "outputs": [],
   "source": []
  },
  {
   "cell_type": "code",
   "execution_count": null,
   "metadata": {},
   "outputs": [],
   "source": []
  }
 ],
 "metadata": {
  "kernelspec": {
   "display_name": "Python 3",
   "language": "python",
   "name": "python3"
  },
  "language_info": {
   "codemirror_mode": {
    "name": "ipython",
    "version": 3
   },
   "file_extension": ".py",
   "mimetype": "text/x-python",
   "name": "python",
   "nbconvert_exporter": "python",
   "pygments_lexer": "ipython3",
   "version": "3.6.4"
  }
 },
 "nbformat": 4,
 "nbformat_minor": 2
}
