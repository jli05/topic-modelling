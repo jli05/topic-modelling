{
 "cells": [
  {
   "cell_type": "code",
   "execution_count": 1,
   "metadata": {},
   "outputs": [],
   "source": [
    "%load_ext autoreload\n",
    "%autoreload 2"
   ]
  },
  {
   "cell_type": "code",
   "execution_count": 2,
   "metadata": {},
   "outputs": [],
   "source": [
    "import bz2\n",
    "import itertools\n",
    "from time import time\n",
    "\n",
    "from sklearn.feature_extraction.text import CountVectorizer, TfidfVectorizer\n",
    "from sklearn.decomposition import NMF, LatentDirichletAllocation\n",
    "\n",
    "import numpy as np\n",
    "import lxml.etree"
   ]
  },
  {
   "cell_type": "code",
   "execution_count": 3,
   "metadata": {},
   "outputs": [],
   "source": [
    "import matplotlib.pyplot as plt\n",
    "%matplotlib inline"
   ]
  },
  {
   "cell_type": "code",
   "execution_count": null,
   "metadata": {},
   "outputs": [],
   "source": []
  },
  {
   "cell_type": "markdown",
   "metadata": {},
   "source": [
    "# Get a Common Vocabulary"
   ]
  },
  {
   "cell_type": "code",
   "execution_count": 5,
   "metadata": {},
   "outputs": [],
   "source": [
    "n_features = 20000"
   ]
  },
  {
   "cell_type": "code",
   "execution_count": 18,
   "metadata": {},
   "outputs": [],
   "source": [
    "all_abstracts = !xmllint --shell ../data/simplewiki-latest-abstract.xml.gz <<< \"cat //doc/abstract\""
   ]
  },
  {
   "cell_type": "code",
   "execution_count": 19,
   "metadata": {},
   "outputs": [
    {
     "data": {
      "text/plain": [
       "130870"
      ]
     },
     "execution_count": 19,
     "metadata": {},
     "output_type": "execute_result"
    }
   ],
   "source": [
    "all_abstracts = all_abstracts[1::2]\n",
    "len(all_abstracts)"
   ]
  },
  {
   "cell_type": "code",
   "execution_count": 20,
   "metadata": {},
   "outputs": [
    {
     "data": {
      "text/plain": [
       "['<abstract>April is the 4th month of the year, and comes between March and May. It is one of four months to have 30 days.</abstract>',\n",
       " '<abstract>August (Aug.) is the 8th month of the year in the Gregorian calendar, coming between July and September.</abstract>',\n",
       " '<abstract>Art is a creative activity by people.  These people are called artists.</abstract>',\n",
       " '<abstract>A is the first letter of the English alphabet. The small letter, a, is used as a lower case vowel.</abstract>',\n",
       " '<abstract>thumb|240px|This is what the air is made of</abstract>']"
      ]
     },
     "execution_count": 20,
     "metadata": {},
     "output_type": "execute_result"
    }
   ],
   "source": [
    "all_abstracts[:5]"
   ]
  },
  {
   "cell_type": "code",
   "execution_count": 21,
   "metadata": {},
   "outputs": [],
   "source": [
    "vectorizer0 = TfidfVectorizer(max_df=.95, min_df=1,\n",
    "                              max_features=n_features,\n",
    "                              lowercase=False,\n",
    "                              stop_words='english')\n",
    "vectorizer0.fit(all_abstracts)\n",
    "vocabulary0 = vectorizer0.vocabulary_"
   ]
  },
  {
   "cell_type": "code",
   "execution_count": null,
   "metadata": {},
   "outputs": [],
   "source": []
  },
  {
   "cell_type": "markdown",
   "metadata": {},
   "source": [
    "# Read and Vectorise Documents"
   ]
  },
  {
   "cell_type": "markdown",
   "metadata": {},
   "source": [
    "Simple Wiki's articles"
   ]
  },
  {
   "cell_type": "code",
   "execution_count": 4,
   "metadata": {},
   "outputs": [],
   "source": [
    "def articles_iter(dump='../data/simplewiki-latest-pages-articles.xml.bz2',\n",
    "                  keyphrase=None):\n",
    "    ''' Extract pages with keyphrase '''\n",
    "    with bz2.open(dump) as pages:\n",
    "        tree = lxml.etree.ElementTree(file=pages)\n",
    "        for node in tree.iter(tag='{*}text'):\n",
    "            if node.text is None:\n",
    "                continue\n",
    "            if keyphrase is None:\n",
    "                yield node.text\n",
    "            elif keyphrase in node.text:\n",
    "                yield node.text"
   ]
  },
  {
   "cell_type": "markdown",
   "metadata": {},
   "source": [
    "TF-IDF Vectoriser"
   ]
  },
  {
   "cell_type": "code",
   "execution_count": 7,
   "metadata": {},
   "outputs": [
    {
     "data": {
      "text/plain": [
       "30285"
      ]
     },
     "execution_count": 7,
     "metadata": {},
     "output_type": "execute_result"
    }
   ],
   "source": [
    "docs = list(articles_iter(keyphrase='United States'))\n",
    "len(docs)"
   ]
  },
  {
   "cell_type": "code",
   "execution_count": 22,
   "metadata": {},
   "outputs": [
    {
     "data": {
      "text/plain": [
       "TfidfVectorizer(analyzer='word', binary=False, decode_error='strict',\n",
       "        dtype=<class 'numpy.int64'>, encoding='utf-8', input='content',\n",
       "        lowercase=False, max_df=0.95, max_features=20000, min_df=1,\n",
       "        ngram_range=(1, 1), norm='l2', preprocessor=None, smooth_idf=True,\n",
       "        stop_words='english', strip_accents=None, sublinear_tf=False,\n",
       "        token_pattern='(?u)\\\\b\\\\w\\\\w+\\\\b', tokenizer=None, use_idf=True,\n",
       "        vocabulary={'April': 1545, '4th': 919, 'month': 16237, 'year': 19948, 'comes': 12685, 'March': 6900, 'May': 7036, 'It': 5717, 'months': 16239, '30': 746, 'days': 13200, 'August': 1715, '8th': 1086, 'Gregorian': 4915, 'calendar': 12207, 'coming': 12691, 'July': 5939, 'September': 9358, 'Art': 1629, '...usa': 1860, 'Arthrostylidium': 1631, 'Losser': 6607, 'Zorlu': 11154, 'Takam': 10011, 'Parvat': 8179})"
      ]
     },
     "execution_count": 22,
     "metadata": {},
     "output_type": "execute_result"
    }
   ],
   "source": [
    "tfidf_vectorizer = TfidfVectorizer(max_df=.95, min_df=1,\n",
    "                                   max_features=n_features,\n",
    "                                   lowercase=False,\n",
    "                                   stop_words='english',\n",
    "                                   vocabulary=vocabulary0)\n",
    "tfidf_vectorizer.fit(docs)"
   ]
  },
  {
   "cell_type": "code",
   "execution_count": 23,
   "metadata": {
    "scrolled": true
   },
   "outputs": [
    {
     "data": {
      "text/plain": [
       "(30285, 20000)"
      ]
     },
     "execution_count": 23,
     "metadata": {},
     "output_type": "execute_result"
    }
   ],
   "source": [
    "tfidf = tfidf_vectorizer.transform(docs)\n",
    "tfidf.shape"
   ]
  },
  {
   "cell_type": "markdown",
   "metadata": {},
   "source": [
    "TF Vectoriser"
   ]
  },
  {
   "cell_type": "code",
   "execution_count": 24,
   "metadata": {
    "scrolled": true
   },
   "outputs": [
    {
     "data": {
      "text/plain": [
       "CountVectorizer(analyzer='word', binary=False, decode_error='strict',\n",
       "        dtype=<class 'numpy.int64'>, encoding='utf-8', input='content',\n",
       "        lowercase=False, max_df=0.95, max_features=20000, min_df=1,\n",
       "        ngram_range=(1, 1), preprocessor=None, stop_words='english',\n",
       "        strip_accents=None, token_pattern='(?u)\\\\b\\\\w\\\\w+\\\\b',\n",
       "        tokenizer=None,\n",
       "        vocabulary={'April': 1545, '4th': 919, 'month': 16237, 'year': 19948, 'comes': 12685, 'March': 6900, 'May': 7036, 'It': 5717, 'months': 16239, '30': 746, 'days': 13200, 'August': 1715, '8th': 1086, 'Gregorian': 4915, 'calendar': 12207, 'coming': 12691, 'July': 5939, 'September': 9358, 'Art': 1629, '...usa': 1860, 'Arthrostylidium': 1631, 'Losser': 6607, 'Zorlu': 11154, 'Takam': 10011, 'Parvat': 8179})"
      ]
     },
     "execution_count": 24,
     "metadata": {},
     "output_type": "execute_result"
    }
   ],
   "source": [
    "tf_vectorizer = CountVectorizer(max_df=0.95, min_df=1,\n",
    "                                max_features=n_features,\n",
    "                                lowercase=False,\n",
    "                                stop_words='english',\n",
    "                                vocabulary=tfidf_vectorizer.vocabulary_)\n",
    "tf_vectorizer.fit(docs)"
   ]
  },
  {
   "cell_type": "code",
   "execution_count": 25,
   "metadata": {},
   "outputs": [
    {
     "data": {
      "text/plain": [
       "(30285, 20000)"
      ]
     },
     "execution_count": 25,
     "metadata": {},
     "output_type": "execute_result"
    }
   ],
   "source": [
    "tf = tf_vectorizer.transform(docs)\n",
    "tf.shape"
   ]
  },
  {
   "cell_type": "code",
   "execution_count": null,
   "metadata": {},
   "outputs": [],
   "source": []
  },
  {
   "cell_type": "markdown",
   "metadata": {},
   "source": [
    "# Topic Modelling"
   ]
  },
  {
   "cell_type": "code",
   "execution_count": 14,
   "metadata": {},
   "outputs": [],
   "source": [
    "def print_top_words_factors(factors, feature_names, n_top_words):\n",
    "    ''' Print top words of each topic '''\n",
    "    for topic_idx, topic in enumerate(factors):\n",
    "        message = f\"Topic #{topic_idx}: \"\n",
    "        message += \" \".join([feature_names[i]\n",
    "                             for i in topic.argsort()[:-n_top_words - 1:-1]])\n",
    "        print(message)\n",
    "    print()\n",
    "\n",
    "def print_top_words(model, feature_names, n_top_words):\n",
    "    ''' Print top words of each topic '''\n",
    "    print_top_words_factors(model.components_, feature_names, n_top_words)"
   ]
  },
  {
   "cell_type": "code",
   "execution_count": null,
   "metadata": {},
   "outputs": [],
   "source": []
  },
  {
   "cell_type": "markdown",
   "metadata": {},
   "source": [
    "## NMF"
   ]
  },
  {
   "cell_type": "code",
   "execution_count": 26,
   "metadata": {
    "scrolled": false
   },
   "outputs": [
    {
     "name": "stdout",
     "output_type": "stream",
     "text": [
      "Topic #0: http com www title url accessdate The web publisher date news 2011 American https work 2010 2016 2012 2013 dies\n",
      "Topic #1: font User talk color UTC article style The small face Special 2009 Wikipedia page think 2008 articles user 2011 just\n",
      "Topic #2: sort row Canada Cup Stanley Finals hockey ice Red Wings alt style 10 SC Won background 12 14 United States\n",
      "Topic #3: align center left text small right style flag km2 row Florida film 000 convert width web 2010 The publisher Chart\n",
      "Topic #4: Prix Grand small left align F1 Formula One style background flag Ferrari season engine Italian British 10 Monaco 12 German\n",
      "Topic #5: FA The film battleship Battle album Hurricane class New John HMS William USS Park game born song War video History\n",
      "Topic #6: li em 39 Angela User 91 2004 content 18 Dec 2003 Talk 02 Special 123 10 Jan Category Wikipedia 13\n",
      "Topic #7: style background link text color File The size svg film px alt Line 10 Metro width Flag switch height 16\n",
      "Topic #8: replace word ing 999 ed ly es al er don source match Un ei en ion ions ve In ar\n",
      "Topic #9: United States Army County center born Private New Navy Alabama Sergeant Union First American Jersey Battle John Medal jpg Honor\n",
      "\n"
     ]
    }
   ],
   "source": [
    "nmf = NMF(n_components=10, init='random', alpha=.3, l1_ratio=1e-6)\n",
    "nmf.fit(.8 * tfidf + .2 * tf)\n",
    "print_top_words(nmf, tfidf_vectorizer.get_feature_names(), n_top_words=20)"
   ]
  },
  {
   "cell_type": "code",
   "execution_count": 27,
   "metadata": {},
   "outputs": [
    {
     "name": "stdout",
     "output_type": "stream",
     "text": [
      "Topic #0: font User talk color UTC style The article small 2009 face Special Wikipedia 2008 page think articles user 2011 just\n",
      "Topic #1: replace word ing 999 ed ly es al er don source match Un ei en ion ions ve In ar\n",
      "Topic #2: United States Army style center background Private File Navy Sergeant Union First Battle The Medal jpg Honor link John born\n",
      "Topic #3: sort row Canada Cup Stanley Finals hockey ice Red Wings alt background style 10 SC Won 12 14 United 11\n",
      "Topic #4: FA The film battleship Battle album Hurricane class John New HMS William USS Park game War song born video History\n",
      "Topic #5: li em 39 Angela User 91 2004 content 18 Dec 2003 Talk 02 Special 123 10 Jan Category Wikipedia 13\n",
      "Topic #6: Prix Grand small style background left align F1 Formula One 10 Ferrari season engine 12 11 flag Italian British Monaco\n",
      "Topic #7: align center style text left small film right flag km2 The row Florida width 000 convert web background 2010 publisher\n",
      "Topic #8: http com www title url accessdate The web publisher date news 2011 American https work 2010 2012 2016 2013 New\n",
      "Topic #9: County Alabama km mi New Jersey born Texas Florida Delaware Township City Population Area Name Jefferson Sussex actor singer row\n",
      "\n"
     ]
    }
   ],
   "source": [
    "nmf = NMF(n_components=10, init='random', alpha=.3, l1_ratio=1e-6)\n",
    "nmf.fit(.2 * tfidf + .8 * tf)\n",
    "print_top_words(nmf, tfidf_vectorizer.get_feature_names(), n_top_words=20)"
   ]
  },
  {
   "cell_type": "code",
   "execution_count": 28,
   "metadata": {},
   "outputs": [
    {
     "name": "stdout",
     "output_type": "stream",
     "text": [
      "Topic #0: http com www title url accessdate The web publisher date news 2011 American https work 2010 2012 2016 2013 dies\n",
      "Topic #1: align center left text small style right flag km2 row Florida film 000 convert width web 2010 The publisher Chart\n",
      "Topic #2: font User talk color UTC article style The small face Special 2009 Wikipedia page think 2008 articles user 2011 just\n",
      "Topic #3: replace word ing 999 ed ly es al er don source match Un ei en ion ions ve In ar\n",
      "Topic #4: Prix Grand small left align F1 Formula One style background flag Ferrari season engine Italian British 10 12 Monaco German\n",
      "Topic #5: sort row Canada Cup Stanley Finals hockey ice Red Wings alt style 10 background SC Won 12 14 United States\n",
      "Topic #6: li em 39 Angela User 91 2004 content 18 Dec 2003 Talk 02 Special 123 10 Jan Category Wikipedia 13\n",
      "Topic #7: United States Army County center born Private New Navy Sergeant Alabama Union First American Jersey Battle Medal John jpg Honor\n",
      "Topic #8: FA The film battleship Battle album Hurricane class New John HMS William USS Park born game song War video History\n",
      "Topic #9: style background link text color File size svg The film px alt Line 10 Metro width Flag switch 16 font\n",
      "\n"
     ]
    }
   ],
   "source": [
    "nmf = NMF(n_components=10, init='random', alpha=.3, l1_ratio=1e-6)\n",
    "nmf.fit(tf)\n",
    "print_top_words(nmf, tfidf_vectorizer.get_feature_names(), n_top_words=20)"
   ]
  },
  {
   "cell_type": "markdown",
   "metadata": {},
   "source": [
    "## Latent Dirichlet Allocation"
   ]
  },
  {
   "cell_type": "markdown",
   "metadata": {},
   "source": [
    "Variational Inference for LDA"
   ]
  },
  {
   "cell_type": "code",
   "execution_count": 40,
   "metadata": {
    "scrolled": false
   },
   "outputs": [
    {
     "name": "stdout",
     "output_type": "stream",
     "text": [
      "Topic #0: The In people wikt He It book This called They time language year org http author used government books did\n",
      "Topic #1: American born actor dies The actress British singer politician player German English French FA John writer United people 2014 President\n",
      "Topic #2: New Category York Jersey California University City Chicago River Texas State San Illinois Park National League United The States North\n",
      "Topic #3: http www com title url accessdate web publisher date news https 2011 2012 2016 2015 2014 2010 work 2013 The\n",
      "Topic #4: align center style small left background Grand text Prix sort flag width right 10 Canada United row One season 11\n",
      "Topic #5: States United Category He Party American Army January jpg Republican Democratic US President date John births War File age University\n",
      "Topic #6: The Category movie American album movies music series It film television com song Award Records United TV released States Best\n",
      "Topic #7: User font talk color UTC style article The page Wikipedia small articles Special think user 2009 just face English like\n",
      "Topic #8: The It jpg File used United thumb journal Category States http year In 10 convert This gov Hurricane people National\n",
      "Topic #9: County States United city code state US Area Category Alabama Census Population Florida geo City List gov census Name county\n",
      "\n"
     ]
    }
   ],
   "source": [
    "lda = LatentDirichletAllocation(n_components=10,\n",
    "                                doc_topic_prior=1,\n",
    "                                topic_word_prior=1,\n",
    "                                max_iter=10,\n",
    "                                learning_method='online')\n",
    "lda.fit(tf)\n",
    "print_top_words(lda, tf_vectorizer.get_feature_names(), n_top_words=20)"
   ]
  },
  {
   "cell_type": "code",
   "execution_count": 42,
   "metadata": {},
   "outputs": [
    {
     "name": "stdout",
     "output_type": "stream",
     "text": [
      "Topic #0: The United Army War States Union Battle German World France Germany French Navy British English South Republic language File II\n",
      "Topic #1: The Category movie American music album movies film series It television com song Award Records United TV released States artist\n",
      "Topic #2: http www com title url accessdate web publisher date news https 2016 2011 org 2012 work The 2015 2010 2013\n",
      "Topic #3: Grand Prix small season team World WWE Championship FA Category League One Wrestling Formula football Team Cup match F1 United\n",
      "Topic #4: User font talk color UTC style article The page Wikipedia Special articles small user think 2009 English face just don\n",
      "Topic #5: County States United New Category state city US Jersey City State Area code Florida North River Alabama Texas Census Virginia\n",
      "Topic #6: The In people wikt It They This called He United States year time book used author journal like pages did\n",
      "Topic #7: Category American States United He born Party New John actor President January York jpg Republican dies Democratic politician University US\n",
      "Topic #8: align center style small left background text sort flag width right row 10 class Canada size Chart 12 11 color\n",
      "Topic #9: The File jpg It Category United link States convert used Air Image National Airport thumb Chicago http company US type\n",
      "\n"
     ]
    }
   ],
   "source": [
    "lda = LatentDirichletAllocation(n_components=10,\n",
    "                                doc_topic_prior=.8,\n",
    "                                topic_word_prior=.8,\n",
    "                                max_iter=10,\n",
    "                                learning_method='online')\n",
    "lda.fit(tf)\n",
    "print_top_words(lda, tf_vectorizer.get_feature_names(), n_top_words=20)"
   ]
  },
  {
   "cell_type": "code",
   "execution_count": null,
   "metadata": {},
   "outputs": [],
   "source": []
  },
  {
   "cell_type": "markdown",
   "metadata": {},
   "source": [
    "## Spectral LDA"
   ]
  },
  {
   "cell_type": "code",
   "execution_count": 29,
   "metadata": {
    "scrolled": true
   },
   "outputs": [
    {
     "name": "stderr",
     "output_type": "stream",
     "text": [
      "Using mxnet backend.\n",
      "/Library/Frameworks/Python.framework/Versions/3.6/lib/python3.6/site-packages/h5py/__init__.py:36: FutureWarning: Conversion of the second argument of issubdtype from `float` to `np.floating` is deprecated. In future, it will be treated as `np.float64 == np.dtype(float).type`.\n",
      "  from ._conv import register_converters as _register_converters\n",
      "Using numpy backend.\n"
     ]
    }
   ],
   "source": [
    "import sys\n",
    "sys.path.insert(0, '../SpectralLDA')\n",
    "\n",
    "from spectral_lda import spectral_lda"
   ]
  },
  {
   "cell_type": "code",
   "execution_count": 30,
   "metadata": {
    "scrolled": false
   },
   "outputs": [
    {
     "name": "stderr",
     "output_type": "stream",
     "text": [
      "# docs: 30285\t# valid: 30259\n"
     ]
    },
    {
     "name": "stdout",
     "output_type": "stream",
     "text": [
      "Topic #0: States American state movies California movie Florida deaths television New seats He Illinois nationality Idaho structures Sports Movies Geography Counties\n",
      "Topic #1: Kentucky County Category United geo Cities city States US New seats Oklahoma county York Texas Idaho seat state Illinois Ohio\n",
      "Topic #2: Category States United American state Party California New establishments category country President century History deaths nationality structures Geography York Constitution\n",
      "Topic #3: Category States United Florida Cities geo city Idaho towns Illinois County Oklahoma Arkansas US Kentucky state Indiana Virginia America county\n",
      "Topic #4: Category Party President Census dollar Rights Bill Constitution The Senate Army Republican Secretary Flag 2010 Department presidential List units customary\n",
      "Topic #5: US The American http movie com www movies New title url television York date accessdate series publisher web music He\n",
      "Topic #6: geo The http www com title American url He date accessdate web publisher It Infobox jpg movie org January University\n",
      "Topic #7: city The http www com title url He date accessdate web publisher In American small January jpg Infobox align 10\n",
      "Topic #8: Cities The http www com title url date American accessdate web He people publisher In It Infobox jpg People county\n",
      "Topic #9: Virginia geo Category States United US towns town Idaho West Indiana Arkansas state Oklahoma Kentucky America Louisiana Iowa communities Mount\n",
      "\n"
     ]
    }
   ],
   "source": [
    "alpha, beta = spectral_lda(tf, alpha0=10, k=10)\n",
    "print_top_words_factors(beta.T, tf_vectorizer.get_feature_names(), 20)"
   ]
  },
  {
   "cell_type": "code",
   "execution_count": 46,
   "metadata": {},
   "outputs": [
    {
     "name": "stderr",
     "output_type": "stream",
     "text": [
      "# docs: 30285\t# valid: 30259\n"
     ]
    },
    {
     "name": "stdout",
     "output_type": "stream",
     "text": [
      "Topic #0: Category geo Cities city United States Florida County Kentucky towns Idaho Illinois Virginia Oklahoma state Arkansas Indiana seats county town\n",
      "Topic #1: States American state movies California Florida movie deaths Illinois television He seats Idaho structures Sports nationality Geography New Counties Movies\n",
      "Topic #2: Category States United state American Party California establishments New category country President History century deaths structures nationality Geography Constitution Counties\n",
      "Topic #3: Kentucky Category County United States geo Cities city US New seats York Oklahoma county Idaho Texas state Florida Iowa seat\n",
      "Topic #4: Category Party President Census dollar Rights Bill Constitution The Senate Army 2010 Secretary Republican Flag Department presidential List units customary\n",
      "Topic #5: US Iowa American The http movie com movies www New title television York url date accessdate series He web publisher\n",
      "Topic #6: geo The http www com title url He accessdate date web publisher American Infobox jpg align org University January small\n",
      "Topic #7: city The http com www title He date url In accessdate web publisher align small American January jpg Infobox 10\n",
      "Topic #8: Cities The http www com title url In people date web accessdate He publisher It county Infobox town 2010 jpg\n",
      "Topic #9: Virginia geo Category States United US towns town Idaho West Indiana state Arkansas Oklahoma America New Florida Illinois York Louisiana\n",
      "\n"
     ]
    }
   ],
   "source": [
    "alpha, beta = spectral_lda(tf, alpha0=5, k=10)\n",
    "print_top_words_factors(beta.T, tf_vectorizer.get_feature_names(), 20)"
   ]
  },
  {
   "cell_type": "code",
   "execution_count": 47,
   "metadata": {},
   "outputs": [
    {
     "data": {
      "text/plain": [
       "[<matplotlib.lines.Line2D at 0x118b1d518>]"
      ]
     },
     "execution_count": 47,
     "metadata": {},
     "output_type": "execute_result"
    },
    {
     "data": {
      "image/png": "[encoded data removed]",
      "text/plain": [
       "<matplotlib.figure.Figure at 0x1226e3390>"
      ]
     },
     "metadata": {},
     "output_type": "display_data"
    }
   ],
   "source": [
    "plt.plot(alpha)"
   ]
  },
  {
   "cell_type": "code",
   "execution_count": 48,
   "metadata": {},
   "outputs": [
    {
     "data": {
      "text/plain": [
       "1.1993758254776132"
      ]
     },
     "execution_count": 48,
     "metadata": {},
     "output_type": "execute_result"
    }
   ],
   "source": [
    "alpha.sum()"
   ]
  },
  {
   "cell_type": "code",
   "execution_count": null,
   "metadata": {},
   "outputs": [],
   "source": []
  }
 ],
 "metadata": {
  "kernelspec": {
   "display_name": "Python 3",
   "language": "python",
   "name": "python3"
  },
  "language_info": {
   "codemirror_mode": {
    "name": "ipython",
    "version": 3
   },
   "file_extension": ".py",
   "mimetype": "text/x-python",
   "name": "python",
   "nbconvert_exporter": "python",
   "pygments_lexer": "ipython3",
   "version": "3.6.4"
  }
 },
 "nbformat": 4,
 "nbformat_minor": 2
}
