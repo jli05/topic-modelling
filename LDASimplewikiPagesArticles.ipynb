{
 "cells": [
  {
   "cell_type": "code",
   "execution_count": 1,
   "metadata": {},
   "outputs": [],
   "source": [
    "%load_ext autoreload\n",
    "%autoreload 2"
   ]
  },
  {
   "cell_type": "code",
   "execution_count": 2,
   "metadata": {},
   "outputs": [],
   "source": [
    "import bz2\n",
    "import itertools\n",
    "from time import time\n",
    "\n",
    "from sklearn.feature_extraction.text import CountVectorizer, TfidfVectorizer\n",
    "from sklearn.decomposition import NMF, LatentDirichletAllocation\n",
    "\n",
    "import numpy as np\n",
    "import lxml.etree"
   ]
  },
  {
   "cell_type": "code",
   "execution_count": 3,
   "metadata": {},
   "outputs": [],
   "source": [
    "import matplotlib.pyplot as plt\n",
    "%matplotlib inline"
   ]
  },
  {
   "cell_type": "code",
   "execution_count": null,
   "metadata": {},
   "outputs": [],
   "source": []
  },
  {
   "cell_type": "markdown",
   "metadata": {},
   "source": [
    "# Read and Vectorise Documents"
   ]
  },
  {
   "cell_type": "markdown",
   "metadata": {},
   "source": [
    "First download a dump of Simple Wikipedia. By default we suppose it's placed under `../data/`."
   ]
  },
  {
   "cell_type": "markdown",
   "metadata": {},
   "source": [
    "Iterator on Simple Wiki's articles:"
   ]
  },
  {
   "cell_type": "code",
   "execution_count": 4,
   "metadata": {},
   "outputs": [],
   "source": [
    "def articles_iter(dump='../data/simplewiki-latest-pages-articles.xml.bz2',\n",
    "                  keyphrase=None):\n",
    "    ''' Extract pages with keyphrase '''\n",
    "    with bz2.open(dump) as pages:\n",
    "        tree = lxml.etree.ElementTree(file=pages)\n",
    "        for node in tree.iter(tag='{*}text'):\n",
    "            if node.text is None:\n",
    "                continue\n",
    "            if keyphrase is None:\n",
    "                yield node.text\n",
    "            elif keyphrase in node.text:\n",
    "                yield node.text"
   ]
  },
  {
   "cell_type": "markdown",
   "metadata": {},
   "source": [
    "* TF-IDF Vectorizer\n",
    "\n",
    "First fit the Vocabulary on the entire dataset, then transform only the documents containing phrase \"United States\" to obtain the doc-term matrix for the subset."
   ]
  },
  {
   "cell_type": "code",
   "execution_count": 5,
   "metadata": {},
   "outputs": [],
   "source": [
    "n_features = 20000"
   ]
  },
  {
   "cell_type": "code",
   "execution_count": 6,
   "metadata": {},
   "outputs": [
    {
     "data": {
      "text/plain": [
       "TfidfVectorizer(analyzer='word', binary=False, decode_error='strict',\n",
       "        dtype=<class 'numpy.int64'>, encoding='utf-8', input='content',\n",
       "        lowercase=False, max_df=0.95, max_features=20000, min_df=1,\n",
       "        ngram_range=(1, 1), norm='l2', preprocessor=None, smooth_idf=True,\n",
       "        stop_words='english', strip_accents=None, sublinear_tf=False,\n",
       "        token_pattern='(?u)\\\\b\\\\w\\\\w+\\\\b', tokenizer=None, use_idf=True,\n",
       "        vocabulary=None)"
      ]
     },
     "execution_count": 6,
     "metadata": {},
     "output_type": "execute_result"
    }
   ],
   "source": [
    "tfidf_vectorizer = TfidfVectorizer(max_df=.95, min_df=1,\n",
    "                                   max_features=n_features,\n",
    "                                   lowercase=False,\n",
    "                                   stop_words='english')\n",
    "tfidf_vectorizer.fit(articles_iter(keyphrase=None))"
   ]
  },
  {
   "cell_type": "code",
   "execution_count": 7,
   "metadata": {
    "scrolled": true
   },
   "outputs": [
    {
     "data": {
      "text/plain": [
       "(30285, 20000)"
      ]
     },
     "execution_count": 7,
     "metadata": {},
     "output_type": "execute_result"
    }
   ],
   "source": [
    "tfidf = tfidf_vectorizer.transform(articles_iter(keyphrase='United States'))\n",
    "tfidf.shape"
   ]
  },
  {
   "cell_type": "markdown",
   "metadata": {},
   "source": [
    "* TF Vectorizer\n",
    "\n",
    "First fit the vectorizer on the entire dataset reusing the Vocabulary, then transform only the documents containing phrase \"United States\" to obtain the doc-term matrix for the subset."
   ]
  },
  {
   "cell_type": "code",
   "execution_count": 8,
   "metadata": {
    "scrolled": true
   },
   "outputs": [
    {
     "data": {
      "text/plain": [
       "CountVectorizer(analyzer='word', binary=False, decode_error='strict',\n",
       "        dtype=<class 'numpy.int64'>, encoding='utf-8', input='content',\n",
       "        lowercase=False, max_df=0.95, max_features=20000, min_df=1,\n",
       "        ngram_range=(1, 1), preprocessor=None, stop_words='english',\n",
       "        strip_accents=None, token_pattern='(?u)\\\\b\\\\w\\\\w+\\\\b',\n",
       "        tokenizer=None,\n",
       "        vocabulary={'April': 2046, '4th': 1062, 'month': 16101, 'year': 19936, 'comes': 12565, 'March': 6920, 'May': 7024, 'It': 5972, 'months': 16105, '30': 801, 'day': 13048, 'begins': 11785, 'week': 19744, 'July': 6164, 'January': 6035, 'leap': 15505, 'years': 19942, 'ends': 13722, 'December': 3914, 'flo..., 'Args': 2092, 'bsq': 12032, 'XSAMPA': 10972, 'VGem': 10482, 'dodseal': 13440, 'contentcat': 12758})"
      ]
     },
     "execution_count": 8,
     "metadata": {},
     "output_type": "execute_result"
    }
   ],
   "source": [
    "tf_vectorizer = CountVectorizer(max_df=0.95, min_df=1,\n",
    "                                max_features=n_features,\n",
    "                                lowercase=False,\n",
    "                                stop_words='english',\n",
    "                                vocabulary=tfidf_vectorizer.vocabulary_)\n",
    "tf_vectorizer.fit(articles_iter(keyphrase=None))"
   ]
  },
  {
   "cell_type": "code",
   "execution_count": 9,
   "metadata": {
    "scrolled": true
   },
   "outputs": [
    {
     "data": {
      "text/plain": [
       "(30285, 20000)"
      ]
     },
     "execution_count": 9,
     "metadata": {},
     "output_type": "execute_result"
    }
   ],
   "source": [
    "tf = tf_vectorizer.transform(articles_iter(keyphrase='United States'))\n",
    "tf.shape"
   ]
  },
  {
   "cell_type": "code",
   "execution_count": null,
   "metadata": {},
   "outputs": [],
   "source": []
  },
  {
   "cell_type": "markdown",
   "metadata": {},
   "source": [
    "# Topic Modelling"
   ]
  },
  {
   "cell_type": "code",
   "execution_count": 10,
   "metadata": {},
   "outputs": [],
   "source": [
    "def print_top_words_factors(factors, feature_names, n_top_words):\n",
    "    ''' Print top words of each topic '''\n",
    "    for topic_idx, topic in enumerate(factors):\n",
    "        message = f\"Topic #{topic_idx}: \"\n",
    "        message += \" \".join([feature_names[i]\n",
    "                             for i in topic.argsort()[:-n_top_words - 1:-1]])\n",
    "        print(message)\n",
    "    print()\n",
    "\n",
    "def print_top_words(model, feature_names, n_top_words):\n",
    "    ''' Print top words of each topic '''\n",
    "    print_top_words_factors(model.components_, feature_names, n_top_words)"
   ]
  },
  {
   "cell_type": "markdown",
   "metadata": {},
   "source": [
    "## NMF"
   ]
  },
  {
   "cell_type": "code",
   "execution_count": 13,
   "metadata": {},
   "outputs": [
    {
     "name": "stdout",
     "output_type": "stream",
     "text": [
      "Topic #0: American Category actor New York ndash He television actors actress politician singer born footballer German writer English The British 2014\n",
      "Topic #1: County Alabama Area code Census Information Location List census counties City Zone Texas GNIS county area_land_sq_mi area_water_sq_mi area_total_sq_mi State elevation_ft\n",
      "Topic #2: movies movie Category drama comedy Movies American br The It set language released directed crime italictitle English thriller romantic United\n",
      "Topic #3: Illinois Cities US city geo Chicago stub States United Category Township map state Cook County Park Indiana City Democratic Mayor\n",
      "Topic #4: Kentucky Cities city geo US States stub United County Category seats Kenton Ohio Harlan Hills Hardin Indiana Louisville Oklahoma county\n",
      "Topic #5: States United Category Commonscat REDIRECT Party state Republican Arkansas President US establishments Democratic Senate Establishments New California Secretary America Washington\n",
      "Topic #6: Iowa Cities city geo States United stub US Category seats City Central 641 712 Moines 19 Des CDT CST Sioux\n",
      "Topic #7: ref http com www url title cite accessdate web The publisher date news html org https 2016 author work 2015\n",
      "Topic #8: br music album align The band Records rock song small center single groups released albums style com songs Billboard bands\n",
      "Topic #9: Florida Virginia towns Idaho US geo Cities city Arkansas States stub United Oklahoma Category Towns County Indiana town state Beach\n",
      "\n"
     ]
    }
   ],
   "source": [
    "nmf = NMF(n_components=10, init='random', alpha=.3, l1_ratio=1e-6)\n",
    "nmf.fit(tfidf)\n",
    "print_top_words(nmf, tfidf_vectorizer.get_feature_names(), n_top_words=20)"
   ]
  },
  {
   "cell_type": "markdown",
   "metadata": {},
   "source": [
    "## Latent Dirichlet Allocation"
   ]
  },
  {
   "cell_type": "markdown",
   "metadata": {},
   "source": [
    "Variational Inference for LDA"
   ]
  },
  {
   "cell_type": "code",
   "execution_count": 14,
   "metadata": {
    "scrolled": false
   },
   "outputs": [
    {
     "name": "stdout",
     "output_type": "stream",
     "text": [
      "Topic #0: ref http www com title url cite accessdate web publisher date html news https 2011 2016 The work 2012 org\n",
      "Topic #1: County States United New city state Category nbsp City Area Jersey US River Florida Alabama State stub Census North Population\n",
      "Topic #2: Category States United He American Party nowrap Army New br University January York US jpg Republican Democratic President John DEFAULTSORT\n",
      "Topic #3: align center bgcolor style small br flagicon Grand left background Prix text rowspan Ret right width efcfff flag cfcfff colspan\n",
      "Topic #4: The ref In people It wikt This They called United year used time He book thumb States like jpg pages\n",
      "Topic #5: The Category br movie American music album movies series It film television com song Award Records United released TV Best\n",
      "Topic #6: sort WWE World team Category Championship League Canada Wrestling Cup The football match year hockey br wrestling Team dash Olympics\n",
      "Topic #7: font User talk color UTC span style sup article The Wikipedia page nbsp small Special articles think 2009 user face\n",
      "Topic #8: The File nbsp flag br code United nowiki svg link jpg word It language replace type country convert Typo used\n",
      "Topic #9: American ndash The born actor dies British actress German English singer politician French player United writer John President FA BeenOnMainPage\n",
      "\n"
     ]
    }
   ],
   "source": [
    "lda = LatentDirichletAllocation(n_components=10,\n",
    "                                doc_topic_prior=1,\n",
    "                                topic_word_prior=1,\n",
    "                                max_iter=20,\n",
    "                                learning_method='online')\n",
    "lda.fit(tf)\n",
    "print_top_words(lda, tf_vectorizer.get_feature_names(), n_top_words=20)"
   ]
  },
  {
   "cell_type": "markdown",
   "metadata": {},
   "source": [
    "## Spectral LDA"
   ]
  },
  {
   "cell_type": "code",
   "execution_count": 15,
   "metadata": {
    "scrolled": true
   },
   "outputs": [
    {
     "name": "stderr",
     "output_type": "stream",
     "text": [
      "Using numpy backend.\n",
      "Using numpy backend.\n"
     ]
    }
   ],
   "source": [
    "import sys\n",
    "sys.path.insert(0, '../SpectralLDA')\n",
    "\n",
    "from spectral_lda import spectral_lda"
   ]
  },
  {
   "cell_type": "code",
   "execution_count": 16,
   "metadata": {
    "scrolled": false
   },
   "outputs": [
    {
     "name": "stderr",
     "output_type": "stream",
     "text": [
      "# docs: 30285\t# valid: 30285\n"
     ]
    },
    {
     "name": "stdout",
     "output_type": "stream",
     "text": [
      "Topic #0: County Category Kentucky geo US stub Cities United city States Florida Idaho towns Oklahoma Illinois seats county state Texas Arkansas\n",
      "Topic #1: Category States United Commonscat American REDIRECT state New California Settlements movies York movie establishments deaths television century Geography nationality Buildings\n",
      "Topic #2: States American movies movie New television York California Settlements He state series deaths It Movies actors seats drama DEFAULTSORT br\n",
      "Topic #3: Iowa States United Cities Category geo stub city US Illinois Kentucky towns Idaho Florida Arkansas Indiana Oklahoma seats Commonscat state\n",
      "Topic #4: stub ref http www The br com title Commonscat url cite accessdate web publisher American date align He New html\n",
      "Topic #5: city ref The http www com br title url cite date accessdate web In It He publisher American music small\n",
      "Topic #6: geo ref The http www com br title url American cite date He accessdate web It publisher Infobox jpg References\n",
      "Topic #7: Category REDIRECT ref The http redirect br www title com url cite accessdate web In 2010 publisher small align code\n",
      "Topic #8: Virginia geo towns stub States United Category Towns town US Idaho Florida Arkansas Cities state Indiana Oklahoma Illinois West Commonscat\n",
      "Topic #9: States United REDIRECT Party President Commonscat Rights Bill units Census History dollar Constitution Republican presidential Senate redirect Department Army Secretary\n",
      "\n"
     ]
    }
   ],
   "source": [
    "alpha, beta = spectral_lda(tf, alpha0=10, k=10)\n",
    "print_top_words_factors(beta.T, tf_vectorizer.get_feature_names(), 20)"
   ]
  },
  {
   "cell_type": "code",
   "execution_count": 17,
   "metadata": {},
   "outputs": [
    {
     "data": {
      "text/plain": [
       "[<matplotlib.lines.Line2D at 0x1ab6d0160>]"
      ]
     },
     "execution_count": 17,
     "metadata": {},
     "output_type": "execute_result"
    },
    {
     "data": {
      "image/png": "[encoded data removed]",
      "text/plain": [
       "<Figure size 432x288 with 1 Axes>"
      ]
     },
     "metadata": {},
     "output_type": "display_data"
    }
   ],
   "source": [
    "plt.plot(alpha)"
   ]
  },
  {
   "cell_type": "code",
   "execution_count": 18,
   "metadata": {},
   "outputs": [
    {
     "data": {
      "text/plain": [
       "2.153459151183312"
      ]
     },
     "execution_count": 18,
     "metadata": {},
     "output_type": "execute_result"
    }
   ],
   "source": [
    "alpha.sum()"
   ]
  },
  {
   "cell_type": "code",
   "execution_count": null,
   "metadata": {},
   "outputs": [],
   "source": []
  }
 ],
 "metadata": {
  "kernelspec": {
   "display_name": "Python 3",
   "language": "python",
   "name": "python3"
  },
  "language_info": {
   "codemirror_mode": {
    "name": "ipython",
    "version": 3
   },
   "file_extension": ".py",
   "mimetype": "text/x-python",
   "name": "python",
   "nbconvert_exporter": "python",
   "pygments_lexer": "ipython3",
   "version": "3.6.4"
  }
 },
 "nbformat": 4,
 "nbformat_minor": 2
}
